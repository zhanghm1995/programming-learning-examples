{
 "cells": [
  {
   "cell_type": "code",
   "execution_count": 2,
   "metadata": {},
   "outputs": [],
   "source": [
    "import numpy as np"
   ]
  },
  {
   "cell_type": "code",
   "execution_count": 4,
   "metadata": {},
   "outputs": [
    {
     "name": "stdout",
     "output_type": "stream",
     "text": [
      "24881000021 1940119979 12.82446461575251\n",
      "21.386015652954693\n",
      "23.937370297779736\n",
      "1.1193001392231072\n"
     ]
    }
   ],
   "source": [
    "import numpy as np\n",
    "\n",
    "nusc_class_frequencies = np.array([124531392, 0, 0, 0, 68091, 271946, 19732177, 18440931, \n",
    "    2131710, 941461, 1774002271, 24881000021])\n",
    "\n",
    "fg_class = nusc_class_frequencies[:-1]\n",
    "bg_class = nusc_class_frequencies[-1]\n",
    "num_fg = np.sum(fg_class)\n",
    "num_bg = bg_class\n",
    "print(num_bg, num_fg, num_bg/num_fg)\n",
    "\n",
    "print(np.log(num_fg))\n",
    "print(np.log(num_bg))\n",
    "print(np.log(num_bg) / np.log(num_fg))"
   ]
  },
  {
   "cell_type": "code",
   "execution_count": 6,
   "metadata": {},
   "outputs": [
    {
     "name": "stdout",
     "output_type": "stream",
     "text": [
      "[0.5389879823432038, 6.912232307876255]\n"
     ]
    }
   ],
   "source": [
    "# 假设您已经统计得到每个类别的数量，存储在一个列表中\n",
    "class_counts = [24881000021, 1940119979]\n",
    "\n",
    "# 计算每个类别的权重\n",
    "total_samples = sum(class_counts)\n",
    "class_weights = [total_samples / (len(class_counts) * count) for count in class_counts]\n",
    "print(class_weights)"
   ]
  },
  {
   "cell_type": "markdown",
   "metadata": {},
   "source": [
    "## np.argwhere"
   ]
  },
  {
   "cell_type": "code",
   "execution_count": 8,
   "metadata": {},
   "outputs": [
    {
     "name": "stdout",
     "output_type": "stream",
     "text": [
      "[[0]\n",
      " [5]] (2, 1)\n"
     ]
    }
   ],
   "source": [
    "import numpy as np\n",
    "\n",
    "segments = np.array([1, 2, 3, 4, 5, 1, 3])\n",
    "\n",
    "output = np.argwhere(segments == 1)\n",
    "print(output, output.shape)"
   ]
  },
  {
   "cell_type": "markdown",
   "metadata": {},
   "source": [
    "## np.argsort"
   ]
  },
  {
   "cell_type": "code",
   "execution_count": 10,
   "metadata": {},
   "outputs": [
    {
     "name": "stdout",
     "output_type": "stream",
     "text": [
      "[3 4 0 1 2 5]\n",
      "[1 1 2 3 4 5]\n",
      "(array([1, 2, 3, 4, 5]), array([0, 2, 3, 4, 5]))\n",
      "[array([1, 1]), array([2]), array([3]), array([4]), array([5])]\n",
      "['dd' 'hm' 'zhang']\n"
     ]
    }
   ],
   "source": [
    "import numpy as np\n",
    "\n",
    "data = np.array([ 2, 3, 4, 1, 1, 5])\n",
    "data_sort = data.argsort()\n",
    "print(data_sort)\n",
    "\n",
    "data = data[data_sort]\n",
    "print(data)\n",
    "\n",
    "print(np.unique(data, return_index=True))\n",
    "\n",
    "split_data = np.split(data, np.unique(data, return_index=True)[1][1:])\n",
    "print(split_data)\n",
    "\n",
    "\n",
    "data = np.array(['zhang', 'dd', 'hm'])\n",
    "print(np.unique(data))"
   ]
  },
  {
   "cell_type": "markdown",
   "metadata": {},
   "source": [
    "## np.clip"
   ]
  },
  {
   "cell_type": "code",
   "execution_count": 2,
   "metadata": {},
   "outputs": [
    {
     "name": "stdout",
     "output_type": "stream",
     "text": [
      "0\n"
     ]
    }
   ],
   "source": [
    "import numpy as np\n",
    "\n",
    "data = -10\n",
    "\n",
    "data = np.clip(data, 0, 5)\n",
    "print(data)"
   ]
  },
  {
   "cell_type": "code",
   "execution_count": 2,
   "metadata": {},
   "outputs": [
    {
     "name": "stdout",
     "output_type": "stream",
     "text": [
      "(3,) [0.58415858 0.8053672  0.76616383]\n",
      "(3,) [0.58415858 0.8053672  0.76616383]\n"
     ]
    }
   ],
   "source": [
    "import numpy as np\n",
    "\n",
    "input = np.random.random(3)\n",
    "print(input.shape, input)\n",
    "\n",
    "output = np.concatenate([input])\n",
    "print(output.shape, output)"
   ]
  },
  {
   "attachments": {},
   "cell_type": "markdown",
   "metadata": {},
   "source": [
    "## np.unique"
   ]
  },
  {
   "cell_type": "code",
   "execution_count": 18,
   "metadata": {},
   "outputs": [
    {
     "name": "stdout",
     "output_type": "stream",
     "text": [
      "[[ 0  0  2  3  4  5]\n",
      " [ 6  7  8  7 10 11]] data\n",
      "(array([[ 0,  0,  2,  3,  4,  5],\n",
      "       [ 6,  7,  8,  7, 10, 11]]), array([1, 1, 1, 1, 1, 1])) unique_data\n"
     ]
    }
   ],
   "source": [
    "import numpy as np\n",
    "\n",
    "data = np.arange(12).reshape(2, 6)\n",
    "data[0, 1] = 0\n",
    "data[1, 3] = 7\n",
    "print(data, 'data')\n",
    "\n",
    "unique_data = np.unique(data, axis=1, return_counts=True)\n",
    "print(unique_data, 'unique_data')"
   ]
  },
  {
   "cell_type": "code",
   "execution_count": 4,
   "metadata": {},
   "outputs": [
    {
     "name": "stdout",
     "output_type": "stream",
     "text": [
      "[1 2 3 1 0 8 1] (7,)\n",
      "[0 1 2 3 8] [1 3 1 1 1] return_count\n",
      "[0 1 2 3 8]\n",
      "[4 0 1 2 5] indices\n",
      "[1 2 3 1 0 4 1]\n",
      "[[ 1  2  3]\n",
      " [ 2  3  6]\n",
      " [ 2  4 10]]\n",
      "[ 1  2  3  4  6 10]\n",
      "[0 1 2 1 2 4 1 3 5]\n",
      "[[0 1 2]\n",
      " [1 2 4]\n",
      " [1 3 5]]\n"
     ]
    }
   ],
   "source": [
    "import numpy as np\n",
    "\n",
    "\n",
    "coords = np.array([1,2,3,1,0,8,1])\n",
    "print(coords, coords.shape)\n",
    "\n",
    "unique_i, count_i = np.unique(coords, return_counts=True)\n",
    "print(unique_i, count_i, \"return_count\")\n",
    "\n",
    "output, indices, inverse_indices = np.unique(coords, return_index=True, return_inverse=True)\n",
    "print(output)\n",
    "print(indices, \"indices\")\n",
    "print(inverse_indices)\n",
    "\n",
    "\n",
    "a = np. array([[1, 2, 3], \n",
    "               [2, 3, 6],\n",
    "               [2, 4, 10]])\n",
    "print(a)\n",
    "\n",
    "unique_a, mapping = np.unique(a, return_inverse=True)\n",
    "print(unique_a)\n",
    "print(mapping)\n",
    "\n",
    "result = mapping.reshape(a.shape)\n",
    "print(result)"
   ]
  },
  {
   "attachments": {},
   "cell_type": "markdown",
   "metadata": {},
   "source": [
    "## Broadcast operation"
   ]
  },
  {
   "cell_type": "code",
   "execution_count": 14,
   "metadata": {},
   "outputs": [
    {
     "name": "stdout",
     "output_type": "stream",
     "text": [
      "[[0 1]\n",
      " [2 3]\n",
      " [4 5]]\n",
      "[[0.  0.2]\n",
      " [0.2 0.6]\n",
      " [0.4 1. ]]\n",
      "[0. 0. 0. 0.] (4,) float64\n"
     ]
    }
   ],
   "source": [
    "import numpy as np\n",
    "\n",
    "data = np.arange(6).reshape(3, 2)\n",
    "# data = np.arange(6).reshape(2, 3)\n",
    "print(data)\n",
    "\n",
    "scale = [0.1, 0.2]\n",
    "data = data * scale\n",
    "print(data)\n",
    "\n",
    "A = np.zeros((4))\n",
    "print(A, A.shape, A.dtype)"
   ]
  },
  {
   "cell_type": "code",
   "execution_count": 7,
   "metadata": {},
   "outputs": [
    {
     "name": "stdout",
     "output_type": "stream",
     "text": [
      "[[[-0.50811714 -0.37249791]\n",
      "  [-0.17499174 -0.03834427]\n",
      "  [-0.72976307  0.16266134]\n",
      "  [-0.01494956 -0.4795003 ]]\n",
      "\n",
      " [[-0.59059013  0.06370166]\n",
      "  [-0.63784552  0.24798659]\n",
      "  [ 0.17249226  0.34544275]\n",
      "  [-0.11204773  0.29784291]]\n",
      "\n",
      " [[-0.29874419 -0.77381332]\n",
      "  [ 0.32758624  0.00162848]\n",
      "  [-0.27023567 -0.82263671]\n",
      "  [-0.54197301 -0.17592167]]]\n",
      "[[[-0.50811714 -0.37249791]\n",
      "  [-0.17499174 -0.03834427]\n",
      "  [-0.72976307  0.16266134]\n",
      "  [-0.01494956 -0.4795003 ]]\n",
      "\n",
      " [[-0.59059013  0.06370166]\n",
      "  [-0.63784552  0.24798659]\n",
      "  [ 0.17249226  0.34544275]\n",
      "  [-0.11204773  0.29784291]]\n",
      "\n",
      " [[-0.29874419 -0.77381332]\n",
      "  [ 0.32758624  0.00162848]\n",
      "  [-0.27023567 -0.82263671]\n",
      "  [-0.54197301 -0.17592167]]]\n"
     ]
    }
   ],
   "source": [
    "arr1 = np.random.rand(3, 4, 2)\n",
    "arr2 = np.random.rand(3, 1, 2)\n",
    "# print(arr2[0])\n",
    "\n",
    "arr_diff = arr1 - arr2\n",
    "print(arr_diff)\n",
    "\n",
    "arr2 = arr2.repeat(4, 1)\n",
    "# print(arr2[0])\n",
    "\n",
    "arr_diff = arr1 - arr2\n",
    "print(arr_diff)"
   ]
  },
  {
   "cell_type": "code",
   "execution_count": 1,
   "metadata": {},
   "outputs": [
    {
     "name": "stdout",
     "output_type": "stream",
     "text": [
      "[2.56e+02 2.56e+02 1.20e-01 1.20e+02 3.00e+01]\n"
     ]
    }
   ],
   "source": [
    "import numpy as np\n",
    "\n",
    "w0, h0 = 256, 256\n",
    "t = [120, 30]\n",
    "s = 0.12\n",
    "\n",
    "trans_params = np.array([w0, h0, s, t[0], t[1]])\n",
    "trans_params = np.array([float(item) for item in np.hsplit(trans_params, 5)])\n",
    "print(trans_params)"
   ]
  },
  {
   "cell_type": "markdown",
   "metadata": {},
   "source": [
    "## nonzero function\n",
    "https://numpy.org/doc/stable/reference/generated/numpy.nonzero.html"
   ]
  },
  {
   "cell_type": "code",
   "execution_count": 5,
   "metadata": {},
   "outputs": [
    {
     "name": "stdout",
     "output_type": "stream",
     "text": [
      "(2, 4)\n",
      "(array([0, 0, 0, 1, 1]), array([0, 1, 3, 0, 2])) <class 'tuple'>\n",
      "[[0 0 0 1 1]\n",
      " [0 1 3 0 2]] (2, 5)\n",
      "[-1.   2.   2.3  1.   1. ]\n",
      "tensor([[-1.0000,  2.0000,  0.0000,  2.3000],\n",
      "        [ 1.0000,  0.0000,  1.0000,  0.0000]]) torch.Size([2, 4])\n",
      "(array([0, 0, 0, 1, 1]), array([0, 1, 3, 0, 2]))\n"
     ]
    }
   ],
   "source": [
    "import numpy as np\n",
    "data = np.array([[-1, 2, 0.0, 2.3],\n",
    "                 [1, 0, 1.0, 0.0]])\n",
    "print(data.shape)\n",
    "\n",
    "result = data.nonzero()\n",
    "print(result, type(result))\n",
    "result_arr = np.stack(result)\n",
    "print(result_arr, result_arr.shape)\n",
    "\n",
    "x, y = data.nonzero()\n",
    "\n",
    "nonzero = data[result]\n",
    "print(nonzero)\n",
    "\n",
    "\n",
    "import torch\n",
    "data = torch.tensor([[-1, 2, 0.0, 2.3],\n",
    "                     [1, 0, 1.0, 0.0]])\n",
    "print(data, data.shape)\n",
    "result = np.nonzero(data.numpy())\n",
    "print(result)"
   ]
  },
  {
   "attachments": {},
   "cell_type": "markdown",
   "metadata": {},
   "source": [
    "## Shuffle the matrix"
   ]
  },
  {
   "cell_type": "code",
   "execution_count": 14,
   "metadata": {},
   "outputs": [
    {
     "name": "stdout",
     "output_type": "stream",
     "text": [
      "(10, 3)\n",
      "[[0.70028115 0.04547057 0.30065465]\n",
      " [0.82665488 0.80408594 0.61449575]\n",
      " [0.74921353 0.63952959 0.02950229]\n",
      " [0.74993682 0.81202594 0.71910412]\n",
      " [0.86019748 0.53052642 0.0152646 ]\n",
      " [0.88378165 0.70322047 0.84533292]\n",
      " [0.63717031 0.02739637 0.28627451]\n",
      " [0.07303377 0.17512937 0.59667908]\n",
      " [0.70367583 0.07049211 0.38136456]\n",
      " [0.86435817 0.48561735 0.88017153]]\n",
      "[[0.70028115 0.04547057 0.30065465]\n",
      " [0.74993682 0.81202594 0.71910412]\n",
      " [0.88378165 0.70322047 0.84533292]\n",
      " [0.70367583 0.07049211 0.38136456]]\n"
     ]
    }
   ],
   "source": [
    "src_frame = np.random.rand(10, 3)\n",
    "print(src_frame.shape)\n",
    "print(src_frame)\n",
    "\n",
    "sub_arr = src_frame[[0,3,5,8], ...]\n",
    "print(sub_arr)\n"
   ]
  },
  {
   "cell_type": "code",
   "execution_count": 6,
   "metadata": {},
   "outputs": [
    {
     "name": "stdout",
     "output_type": "stream",
     "text": [
      "[[0.82558797 0.25010077 0.08458502 0.90576891]\n",
      " [0.16161645 0.45861762 0.44097127 0.81484498]\n",
      " [0.36160619 0.08286553 0.88507553 0.4319875 ]\n",
      " [0.51726791 0.0021405  0.7922427  0.35164982]\n",
      " [0.15178847 0.95880946 0.24788735 0.52479156]\n",
      " [0.17020818 0.24631047 0.82699682 0.74485707]\n",
      " [0.8100133  0.83170586 0.52043515 0.76246146]\n",
      " [0.394564   0.44431953 0.21899148 0.01012017]\n",
      " [0.81318692 0.85296997 0.91138333 0.15058308]\n",
      " [0.89056737 0.23742228 0.09561106 0.41864871]] (10, 4)\n",
      "[[0.82558797 1.         0.08458502 1.        ]\n",
      " [0.16161645 1.         0.44097127 1.        ]\n",
      " [0.36160619 1.         0.88507553 1.        ]\n",
      " [0.51726791 1.         0.7922427  1.        ]\n",
      " [0.15178847 1.         0.24788735 1.        ]\n",
      " [0.17020818 1.         0.82699682 1.        ]\n",
      " [0.8100133  1.         0.52043515 1.        ]\n",
      " [0.394564   1.         0.21899148 1.        ]\n",
      " [0.81318692 1.         0.91138333 1.        ]\n",
      " [0.89056737 1.         0.09561106 1.        ]]\n",
      "(10, 4)\n"
     ]
    }
   ],
   "source": [
    "data_arr = np.random.rand(10, 4)\n",
    "print(data_arr, data_arr.shape)\n",
    "\n",
    "mask = np.array([False, True, False, True])\n",
    "\n",
    "data_arr[:, mask] = 1\n",
    "print(data_arr)\n",
    "\n",
    "data_b = np.random.rand(1, 4)\n",
    "\n",
    "ret = data_arr * data_b\n",
    "print(ret.shape)\n"
   ]
  },
  {
   "attachments": {},
   "cell_type": "markdown",
   "metadata": {},
   "source": [
    "## Concatenate the matrix"
   ]
  },
  {
   "cell_type": "code",
   "execution_count": 5,
   "metadata": {},
   "outputs": [
    {
     "name": "stdout",
     "output_type": "stream",
     "text": [
      "(5,) (5,)\n",
      "(10,)\n"
     ]
    }
   ],
   "source": [
    "arr1 = np.random.randn(5,)\n",
    "arr2 = np.random.randn(5,)\n",
    "print(arr1.shape, arr2.shape)\n",
    "\n",
    "arr = np.concatenate([arr1, arr2], axis=0)\n",
    "print(arr.shape)"
   ]
  },
  {
   "attachments": {},
   "cell_type": "markdown",
   "metadata": {},
   "source": [
    "## tile matrix"
   ]
  },
  {
   "cell_type": "code",
   "execution_count": 9,
   "metadata": {},
   "outputs": [
    {
     "name": "stdout",
     "output_type": "stream",
     "text": [
      "(3, 5, 1)\n",
      "[[[-0.22305194]\n",
      "  [-0.13501087]\n",
      "  [-1.62244612]\n",
      "  [-1.20711516]\n",
      "  [ 1.27533629]]\n",
      "\n",
      " [[-0.63114901]\n",
      "  [-2.41434974]\n",
      "  [-0.64912477]\n",
      "  [ 1.08389685]\n",
      "  [ 1.57379786]]\n",
      "\n",
      " [[ 1.36316033]\n",
      "  [ 0.68273487]\n",
      "  [ 0.49873773]\n",
      "  [ 0.64152808]\n",
      "  [ 1.32988197]]]\n",
      "(3, 5, 3)\n",
      "rgb\n",
      "[[[-0.22305194 -0.22305194 -0.22305194]\n",
      "  [-0.13501087 -0.13501087 -0.13501087]\n",
      "  [-1.62244612 -1.62244612 -1.62244612]\n",
      "  [-1.20711516 -1.20711516 -1.20711516]\n",
      "  [ 1.27533629  1.27533629  1.27533629]]\n",
      "\n",
      " [[-0.63114901 -0.63114901 -0.63114901]\n",
      "  [-2.41434974 -2.41434974 -2.41434974]\n",
      "  [-0.64912477 -0.64912477 -0.64912477]\n",
      "  [ 1.08389685  1.08389685  1.08389685]\n",
      "  [ 1.57379786  1.57379786  1.57379786]]\n",
      "\n",
      " [[ 1.36316033  1.36316033  1.36316033]\n",
      "  [ 0.68273487  0.68273487  0.68273487]\n",
      "  [ 0.49873773  0.49873773  0.49873773]\n",
      "  [ 0.64152808  0.64152808  0.64152808]\n",
      "  [ 1.32988197  1.32988197  1.32988197]]]\n"
     ]
    }
   ],
   "source": [
    "src_frame = np.random.rand(3, 5, 1)\n",
    "gray = np.random.randn(src_frame.shape[0], src_frame.shape[1], 1)\n",
    "print(gray.shape)\n",
    "print(gray)\n",
    "\n",
    "rgb = np.tile(gray, (1,1,3))\n",
    "print(rgb.shape)\n",
    "print(\"rgb\")\n",
    "print(rgb)"
   ]
  },
  {
   "cell_type": "code",
   "execution_count": null,
   "metadata": {},
   "outputs": [],
   "source": []
  },
  {
   "attachments": {},
   "cell_type": "markdown",
   "metadata": {},
   "source": [
    "## Compute the mean value"
   ]
  },
  {
   "cell_type": "code",
   "execution_count": 5,
   "metadata": {},
   "outputs": [
    {
     "name": "stdout",
     "output_type": "stream",
     "text": [
      "(52, 1024, 3)\n",
      "(52, 3)\n"
     ]
    }
   ],
   "source": [
    "center = np.array([1,2,3.0])\n",
    "mean = np.mean(center)\n",
    "\n",
    "## Assume there are 52 objects with 1024 points for each object\n",
    "xyz = np.random.rand(52,1024,3)\n",
    "print(xyz.shape)\n",
    "xyz_center = xyz.mean(axis=1)\n",
    "print(xyz_center.shape)"
   ]
  },
  {
   "attachments": {},
   "cell_type": "markdown",
   "metadata": {},
   "source": [
    "## Compute the L2 norm"
   ]
  },
  {
   "cell_type": "code",
   "execution_count": 1,
   "metadata": {},
   "outputs": [
    {
     "name": "stderr",
     "output_type": "stream",
     "text": [
      "ic| distance: 3.4641016151377544\n",
      "ic| data_src: array([[1.1, 3.1],\n",
      "                     [1.9, 5.5],\n",
      "                     [2.8, 6.4],\n",
      "                     [1.4, 3.6],\n",
      "                     [2.4, 5.6],\n",
      "                     [3.1, 3.4],\n",
      "                     [2.7, 3.3]])\n",
      "    data_src.shape: (7, 2)\n",
      "ic| data_distance: array([2.81780056, 0.50990195, 0.89442719, 2.23606798, 0.        ,\n",
      "                          2.30867928, 2.3194827 ])\n",
      "ic| data_distance: array([1.81727818, 2.37118114, 3.0516389 , 1.52069063, 2.30488611,\n",
      "                          0.20615528, 0.20615528])\n"
     ]
    },
    {
     "data": {
      "text/plain": [
       "array([1.81727818, 2.37118114, 3.0516389 , 1.52069063, 2.30488611,\n",
       "       0.20615528, 0.20615528])"
      ]
     },
     "execution_count": 1,
     "metadata": {},
     "output_type": "execute_result"
    }
   ],
   "source": []
  },
  {
   "cell_type": "code",
   "execution_count": 15,
   "metadata": {},
   "outputs": [
    {
     "name": "stdout",
     "output_type": "stream",
     "text": [
      "[410, 441, 473]\n",
      "[410.         411.01612903 412.03225806 413.0483871  414.06451613\n",
      " 415.08064516 416.09677419 417.11290323 418.12903226 419.14516129\n",
      " 420.16129032 421.17741935 422.19354839 423.20967742 424.22580645\n",
      " 425.24193548 426.25806452 427.27419355 428.29032258 429.30645161\n",
      " 430.32258065 431.33870968 432.35483871 433.37096774 434.38709677\n",
      " 435.40322581 436.41935484 437.43548387 438.4516129  439.46774194\n",
      " 440.48387097 441.5        442.51612903 443.53225806 444.5483871\n",
      " 445.56451613 446.58064516 447.59677419 448.61290323 449.62903226\n",
      " 450.64516129 451.66129032 452.67741935 453.69354839 454.70967742\n",
      " 455.72580645 456.74193548 457.75806452 458.77419355 459.79032258\n",
      " 460.80645161 461.82258065 462.83870968 463.85483871 464.87096774\n",
      " 465.88709677 466.90322581 467.91935484 468.93548387 469.9516129\n",
      " 470.96774194 471.98387097 473.        ]\n"
     ]
    }
   ],
   "source": [
    "x = [410.0, 441.0, 473.0]\n",
    "x = list(map(int, x))\n",
    "print(x)\n",
    "\n",
    "curve_x = np.linspace(x[0], x[-1], (x[-1]-x[0]))\n",
    "print(curve_x)\n"
   ]
  },
  {
   "cell_type": "code",
   "execution_count": null,
   "metadata": {},
   "outputs": [],
   "source": [
    "def permute_matrix():\n",
    "    matrix_input = np.random.rand(10, 3)\n",
    "    print(matrix_input, matrix_input.shape)\n",
    "\n",
    "    matrix_permute = matrix_input[:, [0,2,1]]\n",
    "    print(matrix_permute)"
   ]
  },
  {
   "attachments": {},
   "cell_type": "markdown",
   "metadata": {},
   "source": [
    "## Linspace array\n",
    "https://blog.csdn.net/neweastsun/article/details/99676029"
   ]
  },
  {
   "cell_type": "code",
   "execution_count": 9,
   "metadata": {},
   "outputs": [
    {
     "name": "stdout",
     "output_type": "stream",
     "text": [
      "(15, 112, 112, 3)\n",
      "<class 'list'> 3 (5, 112, 112, 3)\n"
     ]
    }
   ],
   "source": [
    "image_array = np.random.randn(15, 112, 112, 3)\n",
    "print(image_array.shape)\n",
    "\n",
    "# image_arrays = image_array[::5, ...]\n",
    "\n",
    "image_arrays = np.split(image_array, 3)\n",
    "print(type(image_arrays), len(image_arrays), image_arrays[0].shape)"
   ]
  },
  {
   "attachments": {},
   "cell_type": "markdown",
   "metadata": {},
   "source": [
    "## Padding images"
   ]
  },
  {
   "cell_type": "code",
   "execution_count": 33,
   "metadata": {},
   "outputs": [
    {
     "name": "stdout",
     "output_type": "stream",
     "text": [
      "(2, 320, 320, 3)\n",
      "(7, 320, 320, 3)\n"
     ]
    },
    {
     "data": {
      "image/png": "[encoded data removed]",
      "text/plain": [
       "<PIL.Image.Image image mode=RGB size=320x320 at 0x7F0E903F19B0>"
      ]
     },
     "metadata": {},
     "output_type": "display_data"
    }
   ],
   "source": [
    "import numpy\n",
    "import numpy as np\n",
    "import cv2\n",
    "from PIL import Image\n",
    "from IPython.display import display\n",
    "\n",
    "face = cv2.imread(\"./data/face.jpg\")\n",
    "# face = cv2.cvtColor(face, cv2.COLOR_BGR2GRAY)\n",
    "face2 = cv2.imread(\"./data/face2.jpg\")\n",
    "# face2 = cv2.cvtColor(face2, cv2.COLOR_BGR2GRAY)\n",
    "\n",
    "face = np.array([face, face2])\n",
    "print(face.shape)\n",
    "\n",
    "\n",
    "# face = face[np.newaxis, ...]\n",
    "\n",
    "faces = np.pad(face, pad_width=((0,5),(0,0),(0,0),(0,0)), mode='wrap')\n",
    "print(faces.shape)\n",
    "\n",
    "face = faces[5]\n",
    "display(Image.fromarray(face[..., ::-1]))"
   ]
  },
  {
   "cell_type": "code",
   "execution_count": 3,
   "metadata": {},
   "outputs": [
    {
     "name": "stdout",
     "output_type": "stream",
     "text": [
      "(2, 2, 3)\n",
      "(5, 2, 3)\n",
      "[[[1 2 3]\n",
      "  [7 8 9]]\n",
      "\n",
      " [[1 2 3]\n",
      "  [7 8 9]]\n",
      "\n",
      " [[3 2 1]\n",
      "  [9 8 7]]\n",
      "\n",
      " [[3 2 1]\n",
      "  [9 8 7]]\n",
      "\n",
      " [[3 2 1]\n",
      "  [9 8 7]]]\n"
     ]
    }
   ],
   "source": [
    "import numpy as np\n",
    "input_arr = np.array([[[1, 2, 3],\n",
    "                      [7, 8, 9]],\n",
    "                      [[3, 2, 1],\n",
    "                      [9, 8, 7]]])\n",
    "print(input_arr.shape)\n",
    "\n",
    "# padding_input_arr = np.pad(input_arr, pad_width=((1, 2), (0, 0), (0, 0)), mode=\"constant\")\n",
    "padding_input_arr = np.pad(input_arr, pad_width=((1, 2), (0, 0), (0, 0)), mode=\"edge\")\n",
    "print(padding_input_arr.shape)\n",
    "\n",
    "print(padding_input_arr)"
   ]
  },
  {
   "attachments": {},
   "cell_type": "markdown",
   "metadata": {},
   "source": [
    "## Reshape the matrix"
   ]
  },
  {
   "cell_type": "code",
   "execution_count": 9,
   "metadata": {},
   "outputs": [
    {
     "name": "stdout",
     "output_type": "stream",
     "text": [
      "[[[-0.11798467  0.2333983 ]\n",
      "  [ 0.77687542  0.84412402]\n",
      "  [-0.41508685  0.75947585]\n",
      "  [-0.91914492  0.31372023]]\n",
      "\n",
      " [[-0.36342474  0.15375741]\n",
      "  [ 0.48757425  0.05715074]\n",
      "  [-0.5936181  -0.19465136]\n",
      "  [ 0.08237296  0.10416975]]]\n",
      "After\n",
      "[[[-0.11798467  0.2333983 ]\n",
      "  [ 0.77687542  0.84412402]]\n",
      "\n",
      " [[-0.41508685  0.75947585]\n",
      "  [-0.91914492  0.31372023]]\n",
      "\n",
      " [[-0.36342474  0.15375741]\n",
      "  [ 0.48757425  0.05715074]]\n",
      "\n",
      " [[-0.5936181  -0.19465136]\n",
      "  [ 0.08237296  0.10416975]]]\n"
     ]
    }
   ],
   "source": [
    "\n",
    "input_data = np.random.randn(2, 4, 2)\n",
    "print(input_data)\n",
    "\n",
    "# input_data = input_data.reshape(2, 2, 2, 2)\n",
    "# print(\"After\")\n",
    "# print(input_data)\n",
    "\n",
    "input_data = input_data.reshape(4, 2, 2)\n",
    "print(\"After\")\n",
    "print(input_data)"
   ]
  },
  {
   "attachments": {},
   "cell_type": "markdown",
   "metadata": {},
   "source": [
    "## Repeat operation"
   ]
  },
  {
   "cell_type": "code",
   "execution_count": 7,
   "metadata": {},
   "outputs": [
    {
     "name": "stdout",
     "output_type": "stream",
     "text": [
      "[0.50980392 0.58039216 0.2745098 ] (3,)\n",
      "[[0.50980392 0.58039216 0.2745098 ]\n",
      " [0.50980392 0.58039216 0.2745098 ]\n",
      " [0.50980392 0.58039216 0.2745098 ]\n",
      " [0.50980392 0.58039216 0.2745098 ]\n",
      " [0.50980392 0.58039216 0.2745098 ]] (5, 3)\n",
      "[0.50980392 0.50980392 0.58039216 0.58039216 0.2745098  0.2745098 ] (6,)\n"
     ]
    }
   ],
   "source": [
    "import numpy as np\n",
    "\n",
    "pc_colors_raw = np.array([130, 148, 70]) / 255.0\n",
    "print(pc_colors_raw, pc_colors_raw.shape)\n",
    "\n",
    "N = 5\n",
    "pc_colors = np.tile(pc_colors_raw, (N, 1))\n",
    "print(pc_colors, pc_colors.shape)\n",
    "\n",
    "pc_colors = np.repeat(pc_colors_raw, axis=0, repeats=2)\n",
    "print(pc_colors, pc_colors.shape)\n"
   ]
  },
  {
   "cell_type": "code",
   "execution_count": 2,
   "metadata": {},
   "outputs": [
    {
     "name": "stdout",
     "output_type": "stream",
     "text": [
      "[3 3 3 3]\n",
      "[1 1 2 2 3 3 4 4]\n"
     ]
    }
   ],
   "source": [
    "import numpy as np\n",
    "\n",
    "a = np.repeat(3, 4)\n",
    "print(a)\n",
    "\n",
    "list_a = [1, 2, 3, 4]\n",
    "list_aa = np.repeat(list_a, 2)\n",
    "print(list_aa)"
   ]
  },
  {
   "cell_type": "code",
   "execution_count": 4,
   "metadata": {},
   "outputs": [
    {
     "name": "stdout",
     "output_type": "stream",
     "text": [
      "(64,)\n",
      "[0 0 0 0 0 0 0 0 1 1 1 1 1 1 1 1 2 2 2 2 2 2 2 2 3 3 3 3 3 3 3 3 4 4 4 4 4\n",
      " 4 4 4 5 5 5 5 5 5 5 5 6 6 6 6 6 6 6 6 7 7 7 7 7 7 7 7]\n",
      "[0 1 2 3 4] [0 0 0 1 1 1 2 2 2 3 3 3 4 4 4] (15,)\n"
     ]
    }
   ],
   "source": [
    "import numpy as np\n",
    "\n",
    "num_training_subjects = 8\n",
    "conditions = np.reshape(np.repeat(np.arange(num_training_subjects)[:,np.newaxis],\n",
    "                                  repeats=8, axis=-1), [-1,])\n",
    "\n",
    "print(conditions.shape)\n",
    "print(conditions)\n",
    "\n",
    "def repeat_vector():\n",
    "    vec_data = np.arange(5)\n",
    "    vec_data_repeated = np.repeat(vec_data, 3)\n",
    "    print(vec_data, vec_data_repeated, vec_data_repeated.shape)\n",
    "\n",
    "repeat_vector()"
   ]
  },
  {
   "cell_type": "code",
   "execution_count": 1,
   "metadata": {},
   "outputs": [
    {
     "name": "stdout",
     "output_type": "stream",
     "text": [
      "(128, 128, 3)\n"
     ]
    }
   ],
   "source": [
    "import numpy as np\n",
    "\n",
    "input = np.random.randn(128, 128)\n",
    "output = np.repeat(input[..., None], 3, axis=-1)\n",
    "print(output.shape)"
   ]
  },
  {
   "cell_type": "code",
   "execution_count": 9,
   "metadata": {},
   "outputs": [
    {
     "name": "stdout",
     "output_type": "stream",
     "text": [
      "[range(0, 8), range(0, 8)]\n"
     ]
    },
    {
     "data": {
      "text/plain": [
       "2"
      ]
     },
     "execution_count": 9,
     "metadata": {},
     "output_type": "execute_result"
    }
   ],
   "source": [
    "subject_idx = [-1, -1]\n",
    "\n",
    "num_training_subjects = 8\n",
    "condition_subj_idx = [range(num_training_subjects) for idx in subject_idx]\n",
    "\n",
    "print(condition_subj_idx)\n",
    "\n",
    "len(condition_subj_idx)"
   ]
  },
  {
   "cell_type": "code",
   "execution_count": 11,
   "metadata": {},
   "outputs": [
    {
     "name": "stdout",
     "output_type": "stream",
     "text": [
      "[[ 0  1]\n",
      " [ 2  3]\n",
      " [ 4  5]\n",
      " [ 6  7]\n",
      " [ 8  9]\n",
      " [10 11]]\n",
      "[[ 0.  1.]\n",
      " [ 2.  3.]\n",
      " [ 4.  5.]\n",
      " [ 6.  7.]\n",
      " [ 8.  9.]\n",
      " [10. 11.]\n",
      " [ 0.  0.]\n",
      " [ 0.  0.]\n",
      " [ 0.  0.]\n",
      " [ 0.  0.]]\n"
     ]
    }
   ],
   "source": [
    "import numpy as np\n",
    "\n",
    "data = np.arange(12).reshape(6, 2)\n",
    "print(data)\n",
    "\n",
    "max_num_sample_pts = 10\n",
    "\n",
    "num_points = min(data.shape[0], max_num_sample_pts)\n",
    "\n",
    "data2 = np.zeros((max_num_sample_pts, 2))\n",
    "data2[:num_points] = data[:num_points]\n",
    "print(data2)\n"
   ]
  }
 ],
 "metadata": {
  "kernelspec": {
   "display_name": "Python 3.10.4 64-bit",
   "language": "python",
   "name": "python3"
  },
  "language_info": {
   "codemirror_mode": {
    "name": "ipython",
    "version": 3
   },
   "file_extension": ".py",
   "mimetype": "text/x-python",
   "name": "python",
   "nbconvert_exporter": "python",
   "pygments_lexer": "ipython3",
   "version": "3.8.18"
  },
  "orig_nbformat": 4,
  "vscode": {
   "interpreter": {
    "hash": "916dbcbb3f70747c44a77c7bcd40155683ae19c65e1c03b4aa3499c5328201f1"
   }
  }
 },
 "nbformat": 4,
 "nbformat_minor": 2
}
