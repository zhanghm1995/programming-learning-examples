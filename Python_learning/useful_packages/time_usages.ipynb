{
 "cells": [
  {
   "cell_type": "code",
   "execution_count": 6,
   "metadata": {},
   "outputs": [],
   "source": [
    "import time\n",
    "import datetime"
   ]
  },
  {
   "cell_type": "code",
   "execution_count": 3,
   "metadata": {},
   "outputs": [
    {
     "name": "stdout",
     "output_type": "stream",
     "text": [
      "2022-09-11 16:56:01\n"
     ]
    }
   ],
   "source": [
    "def print_time_format():\n",
    "    time_str = time.strftime(\"%Y-%m-%d %H:%M:%S\")\n",
    "    print(time_str)\n",
    "\n",
    "print_time_format()"
   ]
  },
  {
   "cell_type": "code",
   "execution_count": 13,
   "metadata": {},
   "outputs": [
    {
     "name": "stdout",
     "output_type": "stream",
     "text": [
      "20240719_142929\n"
     ]
    }
   ],
   "source": [
    "import datetime\n",
    "\n",
    "def get_date_uid():\n",
    "    \"\"\"Generate a unique id based on date.\n",
    "    Returns:\n",
    "        str: Return uid string, e.g. '2022_0914_0907_21'.\n",
    "    \"\"\"\n",
    "    return str(datetime.datetime.now().strftime(\"%Y%m%d_%H%M%S\"))\n",
    "\n",
    "print(get_date_uid())"
   ]
  },
  {
   "cell_type": "code",
   "execution_count": 4,
   "metadata": {},
   "outputs": [
    {
     "name": "stdout",
     "output_type": "stream",
     "text": [
      "Start time:  1662886570.723503\n",
      "End time:  1662886571.7250197\n",
      "Elapsed time: 1.001516580581665 seconds\n"
     ]
    }
   ],
   "source": [
    "def stat_elasped_time():\n",
    "    start_time = time.time()\n",
    "    print(\"Start time: \", start_time)\n",
    "    time.sleep(1)\n",
    "    end_time = time.time()\n",
    "    print(\"End time: \", end_time)\n",
    "    print(f\"Elapsed time: {end_time - start_time} seconds\")\n",
    "\n",
    "stat_elasped_time()"
   ]
  }
 ],
 "metadata": {
  "kernelspec": {
   "display_name": "Python 3.8.13 ('py38-torch100-cu11')",
   "language": "python",
   "name": "python3"
  },
  "language_info": {
   "codemirror_mode": {
    "name": "ipython",
    "version": 3
   },
   "file_extension": ".py",
   "mimetype": "text/x-python",
   "name": "python",
   "nbconvert_exporter": "python",
   "pygments_lexer": "ipython3",
   "version": "3.8.13"
  },
  "orig_nbformat": 4,
  "vscode": {
   "interpreter": {
    "hash": "56d0891f27fe2db3830dc2a05bc70f05135b0c30ed7c190a150d1aca2da3af60"
   }
  }
 },
 "nbformat": 4,
 "nbformat_minor": 2
}
