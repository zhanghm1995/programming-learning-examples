{
 "cells": [
  {
   "cell_type": "code",
   "execution_count": 2,
   "metadata": {},
   "outputs": [],
   "source": [
    "# import sth\n",
    "import os\n",
    "import os.path as osp\n",
    "import time\n",
    "# import glob\n",
    "from glob import glob\n",
    "from os.path import dirname, join, basename, isfile, isdir\n",
    "import cv2\n",
    "# from natsort import natsorted\n",
    "from icecream import ic as print"
   ]
  },
  {
   "attachments": {},
   "cell_type": "markdown",
   "metadata": {},
   "source": [
    "## Basic file path elements"
   ]
  },
  {
   "cell_type": "code",
   "execution_count": 25,
   "metadata": {},
   "outputs": [
    {
     "name": "stderr",
     "output_type": "stream",
     "text": [
      "ic| sep: '/'\n",
      "ic| os.sep: '/'\n",
      "ic| vid_name: 'result_video.mp4'\n",
      "ic| osp.basename(\"result_video.jpg\"): 'result_video.jpg'\n",
      "ic| osp.basename(\"results/result_video\"): 'result_video'\n",
      "ic| osp.basename(\"results/result_video/\"): ''\n",
      "ic| osp.basename(str(\"results/result_video/\").rstrip(\"/\")): 'result_video'\n",
      "ic| 'Get the directory name'\n",
      "ic| img_dir_path: '/data/image'\n",
      "ic| img_dir_path: '/data'\n"
     ]
    },
    {
     "data": {
      "text/plain": [
       "'/data'"
      ]
     },
     "execution_count": 25,
     "metadata": {},
     "output_type": "execute_result"
    }
   ],
   "source": [
    "## Get the path sperator\n",
    "sep = os.path.sep\n",
    "print(sep)\n",
    "print(os.sep)\n",
    "\n",
    "## osp.basename: basename表示路径字符串最后一个/后面的字符串内容\n",
    "file_path = \"results/result_video.mp4\"\n",
    "vid_name = osp.basename(file_path)\n",
    "print(vid_name)\n",
    "\n",
    "print(osp.basename(\"result_video.jpg\"))\n",
    "print(osp.basename(\"results/result_video\"))\n",
    "print(osp.basename(\"results/result_video/\")) # pay attention to this one\n",
    "print(osp.basename(str(\"results/result_video/\").rstrip(\"/\"))) # pay attention to this one\n",
    "\n",
    "## osp.dirname: Get the directory path\n",
    "img_path = \"/data/image/212.jpg\"\n",
    "print(\"Get the directory name\")\n",
    "img_dir_path = osp.dirname(img_path)\n",
    "print(img_dir_path)\n",
    "\n",
    "img_dir_path = osp.dirname(img_dir_path)\n",
    "print(img_dir_path)"
   ]
  },
  {
   "attachments": {},
   "cell_type": "markdown",
   "metadata": {},
   "source": [
    "## Special path"
   ]
  },
  {
   "cell_type": "code",
   "execution_count": 23,
   "metadata": {},
   "outputs": [
    {
     "name": "stderr",
     "output_type": "stream",
     "text": [
      "ic| home_path: '/home/zhanghm'\n",
      "ic| cwd: '/home/zhanghm/Research/V100/programming-learning-examples/Python_learning/filesystem_utils'\n",
      "ic| abs_file_path: '/home/zhanghm/Research/V100/programming-learning-examples/Python_learning/filesystem_utils/data'\n",
      "ic| os.pardir: '..'\n",
      "ic| parent_dir: '/home/zhanghm/Research/V100/programming-learning-examples/Python_learning/filesystem_utils/data/../..'\n",
      "    osp.abspath(parent_dir): '/home/zhanghm/Research/V100/programming-learning-examples/Python_learning'\n"
     ]
    },
    {
     "data": {
      "text/plain": [
       "('/home/zhanghm/Research/V100/programming-learning-examples/Python_learning/filesystem_utils/data/../..',\n",
       " '/home/zhanghm/Research/V100/programming-learning-examples/Python_learning')"
      ]
     },
     "execution_count": 23,
     "metadata": {},
     "output_type": "execute_result"
    }
   ],
   "source": [
    "## Get the home path in Linux\n",
    "home_path = osp.expanduser('~')\n",
    "print(home_path)\n",
    "\n",
    "## Get the current path of terminal execuate command\n",
    "# os.getcwd()获取的是终端执行命令时的路径,并不一定是Python文件所在路径\n",
    "cwd = os.getcwd()\n",
    "print(cwd)\n",
    "\n",
    "## Get the absolute path\n",
    "abs_file_path = os.path.abspath(\"./data\")\n",
    "print(abs_file_path)\n",
    "\n",
    "## Get the parent directory\n",
    "print(os.pardir)\n",
    "\n",
    "parent_dir = osp.join(abs_file_path, os.pardir, os.pardir)\n",
    "print(parent_dir, osp.abspath(parent_dir))"
   ]
  },
  {
   "attachments": {},
   "cell_type": "markdown",
   "metadata": {},
   "source": [
    "## Split a path into different elements"
   ]
  },
  {
   "cell_type": "code",
   "execution_count": 4,
   "metadata": {},
   "outputs": [
    {
     "name": "stdout",
     "output_type": "stream",
     "text": [
      "Split the file extension: ('/data/image/212', '.jpg')\n",
      "('/data/image', '212.jpg')\n",
      "Absolute path splited into ('/homg/zhanghm/0001.checkpoint', '.jpeg')\n",
      "('/homg/zhanghm', '0001.checkpoint.jpeg')\n",
      "relative path ('zhanghm', '0001')\n",
      "('212', '.jpg')\n",
      "('', '212.jpg')\n"
     ]
    }
   ],
   "source": [
    "img_path = \"/data/image/212.jpg\"\n",
    "\n",
    "## We can use os.path.splitext to split the file name path and file extension directly\n",
    "path_list = osp.splitext(img_path)\n",
    "print(\"Split the file extension:\", path_list)\n",
    "\n",
    "## Split the file name and parent directory path\n",
    "path_list = osp.split(img_path)\n",
    "print(path_list)\n",
    "\n",
    "input_fname = \"/homg/zhanghm/0001.checkpoint.jpeg\"\n",
    "\n",
    "os_splited_path = osp.splitext(input_fname)\n",
    "print(\"Absolute path splited into\", os_splited_path)\n",
    "\n",
    "os_splited_path = osp.split(input_fname) ## Split the file name and parent directory path\n",
    "print(os_splited_path)\n",
    "\n",
    "input_fname = \"zhanghm/0001\"\n",
    "os_splited_path = osp.split(input_fname) ## Split the file name and parent directory path\n",
    "print(\"relative path\", os_splited_path)\n",
    "\n",
    "\n",
    "img_path = \"212.jpg\"\n",
    "splited_path = osp.splitext(img_path)\n",
    "print(splited_path)\n",
    "\n",
    "img_path = \"212.jpg\"\n",
    "splited_path = osp.split(img_path)\n",
    "print(splited_path)"
   ]
  },
  {
   "attachments": {},
   "cell_type": "markdown",
   "metadata": {},
   "source": [
    "## Check path exists"
   ]
  },
  {
   "cell_type": "code",
   "execution_count": 1,
   "metadata": {},
   "outputs": [
    {
     "name": "stdout",
     "output_type": "stream",
     "text": [
      "Is not a file\n",
      "Is not a file or folder\n",
      "Is a file or folder\n"
     ]
    }
   ],
   "source": [
    "import os\n",
    "import os.path as osp\n",
    "\n",
    "\n",
    "file_path = \"./data/\"\n",
    "\n",
    "## Check whether is a existing file path\n",
    "if osp.isfile(file_path):\n",
    "    print(\"Is a file\")\n",
    "else:\n",
    "    print(\"Is not a file\")\n",
    "\n",
    "## Check whether is a existing file or a folder path\n",
    "file_or_folder_path = \"./data/example.txt\"\n",
    "# file_or_folder_path = \"./data/\"\n",
    "if osp.exists(file_or_folder_path):\n",
    "    print(\"Is a file or folder\")\n",
    "else:\n",
    "    print(\"Is not a file or folder\")\n",
    "\n",
    "file_path = \"/data/zhanghm/Datasets/GenSDF_Dataset/AccentChair/28e147166eb68b2763ed57e35c972b4b/sdf_data.csv\"\n",
    "if osp.exists(file_path):\n",
    "    print(\"Is a file or folder\")\n",
    "else:\n",
    "    print(\"Is not a file or folder\")"
   ]
  },
  {
   "attachments": {},
   "cell_type": "markdown",
   "metadata": {},
   "source": [
    "## Join paths"
   ]
  },
  {
   "cell_type": "code",
   "execution_count": 20,
   "metadata": {},
   "outputs": [
    {
     "name": "stdout",
     "output_type": "stream",
     "text": [
      "/data/kitti//123.txt\n",
      "/data/kitti/123.txt\n",
      "/data/waymo_preprocessed/train/100000/123.pcd\n",
      "train/100000/123.pcd\n"
     ]
    }
   ],
   "source": [
    "root_dir = \"/data/kitti//\"\n",
    "file_name = \"123.txt\"\n",
    "\n",
    "## Would have double slash\n",
    "file_path = osp.join(root_dir, file_name)\n",
    "print(file_path)\n",
    "\n",
    "## Using osp.normpath to eliminate the double slash\n",
    "file_path = osp.join(osp.normpath(root_dir), file_name)\n",
    "print(file_path)\n",
    "\n",
    "\n",
    "data_root = \"/data/waymo/lidar/\"\n",
    "save_root = \"/data/waymo_preprocessed\"\n",
    "\n",
    "file_path = \"/data/waymo/lidar/train/100000/123.pcd\"\n",
    "\n",
    "## Replace the root_dir by using another root path\n",
    "result_path = osp.join(save_root, osp.normpath(file_path.replace(data_root, \"\") + \"/\"))\n",
    "print(result_path)\n",
    "\n",
    "## Generate relative path\n",
    "file_relative_path = file_path.replace(data_root, \"\").strip(\"/\")\n",
    "print(file_relative_path)"
   ]
  },
  {
   "attachments": {},
   "cell_type": "markdown",
   "metadata": {},
   "source": [
    "## List directory: os.listdir"
   ]
  },
  {
   "cell_type": "code",
   "execution_count": 14,
   "metadata": {},
   "outputs": [
    {
     "name": "stdout",
     "output_type": "stream",
     "text": [
      "64\n",
      "['2021.07.24.20.37.45_veh-17_00015_00375.pkl', '2021.10.11.08.31.07_veh-50_01750_01948.pkl', '2021.07.16.18.06.21_veh-38_04471_04922.pkl', '2021.08.17.17.17.01_veh-45_02314_02798.pkl', '2021.08.30.14.54.34_veh-40_00439_00835.pkl', '2021.05.25.14.16.10_veh-35_01690_02183.pkl', '2021.10.01.19.16.42_veh-28_03307_03808.pkl', '2021.06.03.13.55.17_veh-35_00073_00426.pkl', '2021.06.09.14.58.55_veh-35_01894_02311.pkl', '2021.06.09.17.23.18_veh-38_00773_01140.pkl']\n"
     ]
    }
   ],
   "source": [
    "import os\n",
    "\n",
    "data_dir = \"/mnt/data2/zhanghm/Code/Occupancy/ViDAR/data/openscene-v1.1/meta_datas/mini\"\n",
    "contents = os.listdir(data_dir)  # Get all files and folders name (not a path) in specified directory\n",
    "print(len(contents))\n",
    "print(contents[:10])"
   ]
  },
  {
   "attachments": {},
   "cell_type": "markdown",
   "metadata": {},
   "source": [
    "## Scan directory recursively"
   ]
  },
  {
   "attachments": {},
   "cell_type": "markdown",
   "metadata": {},
   "source": [
    "### Path usages"
   ]
  },
  {
   "cell_type": "code",
   "execution_count": 16,
   "metadata": {},
   "outputs": [
    {
     "name": "stdout",
     "output_type": "stream",
     "text": [
      "/data1/zhanghm/Code/NeRF/BehindTheScenes/data/KITTI-Raw <class 'pathlib.PosixPath'>\n",
      "KITTI-Raw  KITTI-Raw\n",
      "calib .txt calib.txt\n",
      "<generator object Path.iterdir at 0x7f8c3277f6d0> <class 'generator'>\n",
      "/data1/zhanghm/Code/NeRF/BehindTheScenes/data/KITTI-Raw/2011_10_03 2011_10_03 <class 'pathlib.PosixPath'>\n",
      "/data1/zhanghm/Code/NeRF/BehindTheScenes/data/KITTI-Raw/2011_09_28 2011_09_28 <class 'pathlib.PosixPath'>\n",
      "/data1/zhanghm/Code/NeRF/BehindTheScenes/data/KITTI-Raw/2011_09_30 2011_09_30 <class 'pathlib.PosixPath'>\n",
      "/data1/zhanghm/Code/NeRF/BehindTheScenes/data/KITTI-Raw/2011_09_29 2011_09_29 <class 'pathlib.PosixPath'>\n",
      "/data1/zhanghm/Code/NeRF/BehindTheScenes/data/KITTI-Raw/2011_09_26 2011_09_26 <class 'pathlib.PosixPath'>\n",
      "/data1/zhanghm/Code/NeRF/BehindTheScenes/data/KITTI-Raw/tracklet_labels.xml tracklet_labels <class 'pathlib.PosixPath'>\n"
     ]
    }
   ],
   "source": [
    "from pathlib import Path\n",
    "\n",
    "data_path = \"/data1/zhanghm/Code/NeRF/BehindTheScenes/data/KITTI-Raw\"\n",
    "\n",
    "data_path = Path(data_path)\n",
    "print(data_path, type(data_path))\n",
    "print(data_path.stem, data_path.suffix, data_path.name)\n",
    "\n",
    "data_path2 = \"/data1/zhanghm/Code/NeRF/BehindTheScenes/data/KITTI-Raw/calib.txt\"\n",
    "data_path2 = Path(data_path2)\n",
    "print(data_path2.stem, data_path2.suffix, data_path2.name)\n",
    "\n",
    "dirs = data_path.iterdir()\n",
    "print(dirs, type(dirs))\n",
    "\n",
    "for dir in dirs:\n",
    "    print(dir, dir.stem, type(dir))"
   ]
  },
  {
   "cell_type": "code",
   "execution_count": 7,
   "metadata": {},
   "outputs": [
    {
     "name": "stdout",
     "output_type": "stream",
     "text": [
      "/home/haimingzhang/Research/Programming/cv-fighter/facial_preprocessed/obama_weekly_static_25fps_origin_image/obama_weekly_019_clip_001\n",
      "/home/haimingzhang/Research/Programming/cv-fighter/facial_preprocessed/obama_weekly_static_25fps_origin_image/obama_weekly_023_clip_003\n",
      "/home/haimingzhang/Research/Programming/cv-fighter/facial_preprocessed/obama_weekly_static_25fps_origin_image/obama_weekly_021_clip_001\n",
      "/home/haimingzhang/Research/Programming/cv-fighter/facial_preprocessed/obama_weekly_static_25fps_origin_image/obama_weekly_023_clip_002\n",
      "/home/haimingzhang/Research/Programming/cv-fighter/facial_preprocessed/obama_weekly_static_25fps_origin_image/obama_weekly_010_clip_001\n",
      "/home/haimingzhang/Research/Programming/cv-fighter/facial_preprocessed/obama_weekly_static_25fps_origin_image/obama_weekly_019_clip_003\n",
      "/home/haimingzhang/Research/Programming/cv-fighter/facial_preprocessed/obama_weekly_static_25fps_origin_image/obama_weekly_014_clip_001\n",
      "/home/haimingzhang/Research/Programming/cv-fighter/facial_preprocessed/obama_weekly_static_25fps_origin_image/obama_weekly_013_clip_001\n",
      "/home/haimingzhang/Research/Programming/cv-fighter/facial_preprocessed/obama_weekly_static_25fps_origin_image/obama_weekly_019_clip_002\n",
      "/home/haimingzhang/Research/Programming/cv-fighter/facial_preprocessed/obama_weekly_static_25fps_origin_image/obama_weekly_021_clip_002\n",
      "/home/haimingzhang/Research/Programming/cv-fighter/facial_preprocessed/obama_weekly_static_25fps_origin_image/obama_weekly_022_clip_001\n",
      "/home/haimingzhang/Research/Programming/cv-fighter/facial_preprocessed/obama_weekly_static_25fps_origin_image/obama_weekly_021_clip_003\n",
      "/home/haimingzhang/Research/Programming/cv-fighter/facial_preprocessed/obama_weekly_static_25fps_origin_image/obama_weekly_023_clip_001\n",
      "/home/haimingzhang/Research/Programming/cv-fighter/facial_preprocessed/obama_weekly_static_25fps_origin_image/obama_weekly_010_clip_002\n",
      "/home/haimingzhang/Research/Programming/cv-fighter/facial_preprocessed/obama_weekly_static_25fps_origin_image/obama_weekly_013_clip_002\n",
      "/home/haimingzhang/Research/Programming/cv-fighter/facial_preprocessed/obama_weekly_static_25fps_origin_image/obama_weekly_014_clip_002\n",
      "/home/haimingzhang/Research/Programming/cv-fighter/facial_preprocessed/obama_weekly_static_25fps_origin_image/obama_weekly_029_clip_001\n",
      "/home/haimingzhang/Research/Programming/cv-fighter/facial_preprocessed/obama_weekly_static_25fps_origin_image/obama_weekly_029_clip_002\n",
      "/home/haimingzhang/Research/Programming/cv-fighter/facial_preprocessed/obama_weekly_static_25fps_origin_image/obama_weekly_011_clip_001\n",
      "time is  0.05476045608520508\n",
      "37055\n"
     ]
    }
   ],
   "source": [
    "import time\n",
    "from glob import glob\n",
    "import os.path as osp\n",
    "\n",
    "def scan_dir(root_dir, file_suffix=\".mp4\"):\n",
    "    \"\"\"\n",
    "    Ref: https://www.geeksforgeeks.org/python-os-scandir-method/\n",
    "    \"\"\"\n",
    "    vid_list = []\n",
    "    for entry in os.scandir(root_dir):\n",
    "        print(entry.path)\n",
    "        if entry.is_dir():\n",
    "            file_names = [file.path for file in os.scandir(entry) if file.name.endswith(file_suffix)]\n",
    "            # file_names = glob(osp.join(entry.path, '*.jpg'))\n",
    "            vid_list.append(len(file_names))\n",
    "    \n",
    "    return vid_list\n",
    "    \n",
    "\n",
    "root_dir = \"/home/haimingzhang/Research/Programming/cv-fighter/facial_preprocessed/obama_weekly_static_25fps_origin_image\"\n",
    "\n",
    "start = time.time()\n",
    "vid = scan_dir(root_dir, file_suffix=\".jpg\")\n",
    "print(\"time is \", time.time() - start)\n",
    "\n",
    "print(sum(vid))\n"
   ]
  },
  {
   "attachments": {},
   "cell_type": "markdown",
   "metadata": {},
   "source": [
    "### os.scandir"
   ]
  },
  {
   "cell_type": "code",
   "execution_count": 5,
   "metadata": {},
   "outputs": [
    {
     "name": "stdout",
     "output_type": "stream",
     "text": [
      "True\n",
      "<class 'posix.ScandirIterator'>\n",
      "<class 'posix.DirEntry'> HDTF_face3dmmformer_statistics.txt ./data/HDTF_face3dmmformer_statistics.txt False True\n",
      "Is a txt or yaml file\n",
      "<class 'posix.DirEntry'> temp ./data/temp True False\n",
      "<class 'posix.DirEntry'> meta_info.yaml ./data/meta_info.yaml False True\n",
      "Is a txt or yaml file\n"
     ]
    }
   ],
   "source": [
    "import os\n",
    "import os.path as osp\n",
    "\n",
    "root_dir = \"./data/\"\n",
    "print(osp.isdir(root_dir))\n",
    "\n",
    "obj = os.scandir(root_dir)\n",
    "print(type(obj))\n",
    "\n",
    "for entry in obj:\n",
    "    print(type(entry), entry.name, entry.path, entry.is_dir(), entry.is_file())\n",
    "    if entry.path.endswith((\".txt\", \".yaml\")):\n",
    "        print(\"Is a txt or yaml file\")"
   ]
  },
  {
   "cell_type": "code",
   "execution_count": 9,
   "metadata": {},
   "outputs": [
    {
     "name": "stdout",
     "output_type": "stream",
     "text": [
      "['./data/HDTF_face3dmmformer_statistics.txt', './data/meta_info.yaml']\n"
     ]
    }
   ],
   "source": [
    "def get_file_list(input, suffix=\"*.mp4\"):\n",
    "    \"\"\"Get the needed file path list\n",
    "\n",
    "    Args:\n",
    "        input_video (folder|single file path|files list): [description]\n",
    "\n",
    "    Returns:\n",
    "        list: list contains all video file absolute path\n",
    "    \"\"\"\n",
    "    res_files_list = []\n",
    "\n",
    "    if isinstance(input, list):\n",
    "        res_files_list += input\n",
    "    elif osp.isdir(input):\n",
    "        # res_files_list = sorted(glob(osp.join(input, suffix)))\n",
    "        all_entries = os.scandir(input)\n",
    "        res_files_list = [entry.path for entry in all_entries if entry.is_file() and \\\n",
    "                          entry.path.endswith(suffix)]\n",
    "    else:\n",
    "        res_files_list += [input]\n",
    "    return res_files_list\n",
    "\n",
    "input = \"./data/\"\n",
    "file_list = get_file_list(input, suffix=(\".yaml\", \".txt\"))\n",
    "print(file_list)"
   ]
  },
  {
   "attachments": {},
   "cell_type": "markdown",
   "metadata": {},
   "source": [
    "### os.walk"
   ]
  },
  {
   "cell_type": "code",
   "execution_count": 3,
   "metadata": {},
   "outputs": [
    {
     "name": "stdout",
     "output_type": "stream",
     "text": [
      "0 /home/zhanghm/Research/Programming/programming-learning-examples/Python_learning/data ['oxts'] ['obama.jpg', 'example.txt', 'bad_data_name.txt', 'example_write.txt', '1.mat']\n",
      "\n",
      "\n",
      "1 /home/zhanghm/Research/Programming/programming-learning-examples/Python_learning/data/oxts [] ['0008.txt']\n",
      "\n",
      "\n"
     ]
    }
   ],
   "source": [
    "import os\n",
    "\n",
    "data_dir = \"/home/zhanghm/Research/Programming/programming-learning-examples/Python_learning/data\"\n",
    "\n",
    "level = -1\n",
    "for root, dirs, files in os.walk(data_dir, topdown=True):\n",
    "    level += 1\n",
    "    print(level, root, dirs, files)\n",
    "    print(\"\\n\")"
   ]
  },
  {
   "attachments": {},
   "cell_type": "markdown",
   "metadata": {},
   "source": [
    "### glob用法\n",
    "[glob用法](https://blog.csdn.net/u013630349/article/details/47683293)\n",
    "https://www.codenong.com/2632205/\n",
    "https://www.codegrepper.com/code-examples/python/how+to+find+out+number+of+images+in+folder+python"
   ]
  },
  {
   "cell_type": "code",
   "execution_count": 6,
   "metadata": {},
   "outputs": [
    {
     "name": "stdout",
     "output_type": "stream",
     "text": [
      "[]\n",
      "127\n",
      "(2048, 3) -0.45695099234580994 0.34540799260139465\n"
     ]
    }
   ],
   "source": [
    "from glob import glob\n",
    "import os.path as osp\n",
    "import numpy as np\n",
    "\n",
    "video_dir = \"./data/\"\n",
    "all_images_path = sorted(glob(osp.join(video_dir, \"face_image\", \"*.jpg\")))\n",
    "print(all_images_path)\n",
    "\n",
    "data_dir = \"/home/zhanghm/Research/PU/3DVision/PointUpsampling/PUCRN/data/PU1K/test/input_2048/input_2048\"\n",
    "files_list = sorted(glob(osp.join(data_dir, \"*.xyz\")))\n",
    "print(len(files_list))\n",
    "data = np.loadtxt(files_list[0])\n",
    "print(data.shape, data.min(), data.max())"
   ]
  },
  {
   "cell_type": "code",
   "execution_count": 5,
   "metadata": {},
   "outputs": [
    {
     "name": "stdout",
     "output_type": "stream",
     "text": [
      "1877 [PosixPath('/data/data0/zhanghm/AudioVision/HDTF_preprocessed/RD_Radio1_000/face_image/001867.jpg'), PosixPath('/data/data0/zhanghm/AudioVision/HDTF_preprocessed/RD_Radio1_000/face_image/001868.jpg'), PosixPath('/data/data0/zhanghm/AudioVision/HDTF_preprocessed/RD_Radio1_000/face_image/001869.jpg'), PosixPath('/data/data0/zhanghm/AudioVision/HDTF_preprocessed/RD_Radio1_000/face_image/001870.jpg'), PosixPath('/data/data0/zhanghm/AudioVision/HDTF_preprocessed/RD_Radio1_000/face_image/001871.jpg'), PosixPath('/data/data0/zhanghm/AudioVision/HDTF_preprocessed/RD_Radio1_000/face_image/001872.jpg'), PosixPath('/data/data0/zhanghm/AudioVision/HDTF_preprocessed/RD_Radio1_000/face_image/001873.jpg'), PosixPath('/data/data0/zhanghm/AudioVision/HDTF_preprocessed/RD_Radio1_000/face_image/001874.jpg'), PosixPath('/data/data0/zhanghm/AudioVision/HDTF_preprocessed/RD_Radio1_000/face_image/001875.jpg'), PosixPath('/data/data0/zhanghm/AudioVision/HDTF_preprocessed/RD_Radio1_000/face_image/001876.jpg')]\n"
     ]
    }
   ],
   "source": [
    "from pathlib import Path\n",
    "\n",
    "img_root = \"/data/data0/zhanghm/AudioVision/HDTF_preprocessed/RD_Radio1_000/face_image\"\n",
    "\n",
    "img_dir = Path(img_root)\n",
    "\n",
    "ext_list = ['png', 'PNG', 'jpg', 'JPG', 'jpeg', 'JPEG']\n",
    "\n",
    "img_files = []\n",
    "for ext in ext_list:\n",
    "    file_generator = img_dir.glob(f\"**/*.{ext}\")\n",
    "    img_files.extend([file for file in file_generator])\n",
    "img_files.sort()\n",
    "\n",
    "print(len(img_files), img_files[-10:])"
   ]
  },
  {
   "attachments": {},
   "cell_type": "markdown",
   "metadata": {},
   "source": [
    "## Scan folders recursively and save the folders path"
   ]
  },
  {
   "cell_type": "code",
   "execution_count": 18,
   "metadata": {},
   "outputs": [],
   "source": [
    "def scan_files(root_dir, file_name, file_suffix=\".mp4\"):\n",
    "    files_list = glob.glob(f'{root_dir}/*/*.mp4')\n",
    "    lines_list = ['/'.join(line[:-4].split('/')[-3:]) for line in files_list]\n",
    "\n",
    "    lines_str = '\\n'.join(lines_list)\n",
    "    save_file = open(f\"{file_name}.txt\", \"w\")\n",
    "    save_file.write(lines_str)\n",
    "\n",
    "\n",
    "root_dir = \"/data/data0/zhanghm/AudioVision/Wav2LipTEDHQ/test\"\n",
    "scan_files(root_dir, \"test\")"
   ]
  },
  {
   "attachments": {},
   "cell_type": "markdown",
   "metadata": {},
   "source": [
    "## Endswith usages"
   ]
  },
  {
   "cell_type": "code",
   "execution_count": 1,
   "metadata": {},
   "outputs": [
    {
     "name": "stdout",
     "output_type": "stream",
     "text": [
      "Is image\n"
     ]
    }
   ],
   "source": [
    "image_path = \"/home/example.png\"\n",
    "image_path = \"/home/example.jpg\"\n",
    "\n",
    "if image_path.endswith((\".png\", \".jpg\")):\n",
    "    print(\"Is image\")\n",
    "else:\n",
    "    print(\"Is not image\")"
   ]
  },
  {
   "attachments": {},
   "cell_type": "markdown",
   "metadata": {},
   "source": [
    "## Move files"
   ]
  },
  {
   "cell_type": "code",
   "execution_count": 16,
   "metadata": {},
   "outputs": [
    {
     "name": "stdout",
     "output_type": "stream",
     "text": [
      "['1.txt', '2.txt']\n"
     ]
    }
   ],
   "source": [
    "from glob import glob\n",
    "import shutil\n",
    "import os.path as osp\n",
    "\n",
    "data_dir = \"/home/haimingzhang/Research/Programming/cv-fighter/facial_preprocessed/debug\"\n",
    "all_files = os.listdir(data_dir)\n",
    "print(all_files)\n",
    "\n",
    "dst_dir = \"/home/haimingzhang/Research/Programming/cv-fighter/facial_preprocessed/debug/face_image\"\n",
    "os.makedirs(dst_dir) ## this folder Must exist first\n",
    "\n",
    "for file in all_files:\n",
    "    shutil.move(osp.join(data_dir, file), osp.join(dst_dir, file))\n"
   ]
  },
  {
   "attachments": {},
   "cell_type": "markdown",
   "metadata": {},
   "source": [
    "## Copy files"
   ]
  },
  {
   "cell_type": "code",
   "execution_count": 2,
   "metadata": {},
   "outputs": [
    {
     "data": {
      "text/plain": [
       "'./debug/bad_data3_new.txt'"
      ]
     },
     "execution_count": 2,
     "metadata": {},
     "output_type": "execute_result"
    }
   ],
   "source": [
    "import shutil\n",
    "\n",
    "src_file = \"bad_data3.txt\"\n",
    "dst_file = \"./debug/bad_data3_new.txt\"\n",
    "\n",
    "shutil.copy(src_file, dst_file)"
   ]
  },
  {
   "attachments": {},
   "cell_type": "markdown",
   "metadata": {},
   "source": [
    "## Delete folders"
   ]
  },
  {
   "cell_type": "code",
   "execution_count": null,
   "metadata": {},
   "outputs": [],
   "source": [
    "import shutil\n",
    "\n",
    "output_root = \"./debug/test\"\n",
    "shutil.rmtree(output_root)"
   ]
  }
 ],
 "metadata": {
  "kernelspec": {
   "display_name": "Python 3.8.13 ('py38')",
   "language": "python",
   "name": "python3"
  },
  "language_info": {
   "codemirror_mode": {
    "name": "ipython",
    "version": 3
   },
   "file_extension": ".py",
   "mimetype": "text/x-python",
   "name": "python",
   "nbconvert_exporter": "python",
   "pygments_lexer": "ipython3",
   "version": "3.8.18"
  },
  "orig_nbformat": 4,
  "vscode": {
   "interpreter": {
    "hash": "e289fd0241b335d4b18509c8db99dc6f7b71739b00d5a2ecf7749747469093bc"
   }
  }
 },
 "nbformat": 4,
 "nbformat_minor": 2
}
