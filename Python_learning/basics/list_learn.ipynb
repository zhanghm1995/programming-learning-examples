{
 "cells": [
  {
   "attachments": {},
   "cell_type": "markdown",
   "metadata": {},
   "source": [
    "# This notebook learns how to use list in Python3"
   ]
  },
  {
   "cell_type": "code",
   "execution_count": 2,
   "metadata": {},
   "outputs": [],
   "source": [
    "import numpy as np\n",
    "import random"
   ]
  },
  {
   "attachments": {},
   "cell_type": "markdown",
   "metadata": {},
   "source": [
    "## Create list - Part 1"
   ]
  },
  {
   "cell_type": "code",
   "execution_count": 4,
   "metadata": {},
   "outputs": [
    {
     "name": "stdout",
     "output_type": "stream",
     "text": [
      "[1, 2, 3, 4, 5]\n",
      "[3, 3, 3, 3, 3, 3, 3, 3, 3, 3]\n",
      "[0, 4, 8, 12, 16, 20]\n",
      "['00', '04', '08', '12', '16', '20']\n"
     ]
    }
   ],
   "source": [
    "def create_list():\n",
    "    ### Basic initialization\n",
    "    a = [1, 2, 3, 4, 5]\n",
    "    print(a)\n",
    "\n",
    "    ## Create list has repeated values\n",
    "    num, N = 3, 10\n",
    "    b = N * [num]\n",
    "    print(b)\n",
    "\n",
    "    ## Create list by using range\n",
    "    list_num = list(range(0, 24, 4))\n",
    "    print(list_num)\n",
    "\n",
    "create_list()\n",
    "\n",
    "view_id_list = [f\"{i:02d}\" for i in range(24)]\n",
    "view_id_list = view_id_list[::4]\n",
    "print(view_id_list)"
   ]
  },
  {
   "attachments": {},
   "cell_type": "markdown",
   "metadata": {},
   "source": [
    "## Create list - Part 2"
   ]
  },
  {
   "cell_type": "code",
   "execution_count": 15,
   "metadata": {},
   "outputs": [
    {
     "name": "stdout",
     "output_type": "stream",
     "text": [
      "[0, 5, 10, 15, 20, 25, 28]\n",
      "[0, 5, 10, 15, 20, 25, 30, 35]\n",
      "[28, 29, 30, 31, 32, 33, 34, 35]\n"
     ]
    }
   ],
   "source": [
    "total_length = 36\n",
    "stride = 5\n",
    "fetch_length = 8\n",
    "\n",
    "def get_all_valid_indices(total_length, fetch_length, stride):\n",
    "    idx_list = list(range(0, total_length - fetch_length, stride))\n",
    "    last_idx = total_length - fetch_length\n",
    "    idx_list += [last_idx]\n",
    "    return idx_list\n",
    "\n",
    "idx_list = get_all_valid_indices(total_length, fetch_length, stride)\n",
    "print(idx_list)\n",
    "\n",
    "idx_list = list(range(0, total_length, stride))\n",
    "print(idx_list)\n",
    "\n",
    "slice_data = list(range(total_length))[28:28+fetch_length]\n",
    "print(slice_data)"
   ]
  },
  {
   "cell_type": "code",
   "execution_count": 7,
   "metadata": {},
   "outputs": [
    {
     "name": "stdout",
     "output_type": "stream",
     "text": [
      "[(0, 0), (0, 2), (0, 1), (1, 0), (1, 2), (1, 1), (2, 0), (2, 2), (2, 1), (3, 0), (3, 2), (3, 1), (4, 0), (4, 2), (4, 1)]\n",
      "[[[[ 0.22963087]\n",
      "   [ 0.17998772]]\n",
      "\n",
      "  [[ 0.32717225]\n",
      "   [ 1.97121177]]\n",
      "\n",
      "  [[ 0.13861733]\n",
      "   [-0.38999729]]]\n",
      "\n",
      "\n",
      " [[[ 0.11822471]\n",
      "   [-0.27493974]]\n",
      "\n",
      "  [[-0.15268215]\n",
      "   [-0.51989148]]\n",
      "\n",
      "  [[ 1.56184234]\n",
      "   [ 1.47671579]]]\n",
      "\n",
      "\n",
      " [[[ 2.0823348 ]\n",
      "   [-0.7414626 ]]\n",
      "\n",
      "  [[ 0.54612075]\n",
      "   [-0.77610986]]\n",
      "\n",
      "  [[ 0.87197412]\n",
      "   [-1.8083039 ]]]\n",
      "\n",
      "\n",
      " [[[-2.75882432]\n",
      "   [ 0.33242333]]\n",
      "\n",
      "  [[ 0.04835124]\n",
      "   [ 0.78789905]]\n",
      "\n",
      "  [[-2.27382759]\n",
      "   [-1.19577957]]]\n",
      "\n",
      "\n",
      " [[[ 0.30455462]\n",
      "   [-1.06568387]]\n",
      "\n",
      "  [[-0.25735226]\n",
      "   [ 1.97643379]]\n",
      "\n",
      "  [[ 0.43195329]\n",
      "   [-0.43137462]]]]\n",
      "(2, 1)\n",
      "[[-0.15268215]\n",
      " [-0.51989148]]\n"
     ]
    }
   ],
   "source": [
    "shape_num = 5\n",
    "batch_num = 3\n",
    "\n",
    "rt = [0, 2, 1]\n",
    "\n",
    "iter_order = [(i, rt[j]) for i in range(shape_num) for j in range(batch_num)]\n",
    "print(iter_order)\n",
    "\n",
    "import numpy as np\n",
    "\n",
    "data = np.random.randn(5, 3, 2, 1)\n",
    "print(data)\n",
    "selected = data[(1, 1)]\n",
    "print(selected.shape)\n",
    "print(selected)"
   ]
  },
  {
   "attachments": {},
   "cell_type": "markdown",
   "metadata": {},
   "source": [
    "## Tuple"
   ]
  },
  {
   "cell_type": "code",
   "execution_count": 4,
   "metadata": {},
   "outputs": [
    {
     "name": "stdout",
     "output_type": "stream",
     "text": [
      "(1, 2, 257)\n"
     ]
    }
   ],
   "source": [
    "tuple1 = (1, 2)\n",
    "tuple2 = (257,)\n",
    "\n",
    "tuple_res = tuple1 + tuple2\n",
    "print(tuple_res)"
   ]
  },
  {
   "attachments": {},
   "cell_type": "markdown",
   "metadata": {},
   "source": [
    "## Comma operators"
   ]
  },
  {
   "cell_type": "code",
   "execution_count": 5,
   "metadata": {},
   "outputs": [
    {
     "name": "stdout",
     "output_type": "stream",
     "text": [
      "[0, 1, 2, 3, 4, 5, 6, 7, 8, 9]\n",
      "[0, 2, 4, 6, 8]\n",
      "[1, 3, 5, 7, 9]\n",
      "[2, 4, 6, 8]\n"
     ]
    }
   ],
   "source": [
    "data = list(range(10))\n",
    "print(data)\n",
    "\n",
    "data1 = data[::2]\n",
    "print(data1)\n",
    "\n",
    "data2 = data[1::2]\n",
    "print(data2)\n",
    "\n",
    "data3 = data[2::2]\n",
    "print(data3)"
   ]
  },
  {
   "attachments": {},
   "cell_type": "markdown",
   "metadata": {},
   "source": [
    "## Index the list"
   ]
  },
  {
   "cell_type": "code",
   "execution_count": 3,
   "metadata": {},
   "outputs": [
    {
     "name": "stdout",
     "output_type": "stream",
     "text": [
      "2\n"
     ]
    }
   ],
   "source": [
    "list_data = [1, 2, 3, 4]\n",
    "index = list_data.index(3)\n",
    "print(index)"
   ]
  },
  {
   "attachments": {},
   "cell_type": "markdown",
   "metadata": {},
   "source": [
    "## Merge multiple lists"
   ]
  },
  {
   "cell_type": "code",
   "execution_count": 6,
   "metadata": {},
   "outputs": [
    {
     "name": "stdout",
     "output_type": "stream",
     "text": [
      "['123.mp4', '345.mp4']\n"
     ]
    }
   ],
   "source": [
    "def get_file_list(input):\n",
    "    all_videos = []\n",
    "    \n",
    "    if type(input) == list:\n",
    "        all_videos += input\n",
    "    else:\n",
    "        all_videos += [input]\n",
    "    return all_videos\n",
    "\n",
    "videos = [\"123.mp4\", \"345.mp4\"]\n",
    "# videos = \"345.mp4\"\n",
    "\n",
    "\n",
    "all_videos = get_file_list(videos)\n",
    "print(all_videos)"
   ]
  },
  {
   "attachments": {},
   "cell_type": "markdown",
   "metadata": {},
   "source": [
    "## Check list has elements or not\n"
   ]
  },
  {
   "cell_type": "code",
   "execution_count": 2,
   "metadata": {},
   "outputs": [
    {
     "name": "stdout",
     "output_type": "stream",
     "text": [
      "Has value\n",
      "Not in the keys\n"
     ]
    }
   ],
   "source": [
    "list_a = [1]\n",
    "if len(list_a):\n",
    "    print(\"Has value\")\n",
    "else:\n",
    "    print(\"Empty\")\n",
    "\n",
    "\n",
    "keys = None\n",
    "\n",
    "if keys is not None and \"exp\" in keys:\n",
    "    print(\"In the keys\")\n",
    "else:\n",
    "    print(\"Not in the keys\")"
   ]
  },
  {
   "attachments": {},
   "cell_type": "markdown",
   "metadata": {},
   "source": [
    "## Delete elements in list"
   ]
  },
  {
   "cell_type": "code",
   "execution_count": 10,
   "metadata": {},
   "outputs": [
    {
     "name": "stdout",
     "output_type": "stream",
     "text": [
      "[0, 1, 2, 4, 5]\n",
      "[4, 5]\n",
      "[0, 1, 2, 3, 8, 9]\n",
      "1.5\n",
      "[0, 1, 3, 4, 5, 6]\n",
      "delete elements in a list\n",
      "[0, 1, 2, 3, 4, 5, 6, 7, 8, 9]\n",
      "[1, 3, 5, 7, 9]\n"
     ]
    }
   ],
   "source": [
    "## Delete the elements in-place\n",
    "lines = [0, 1, 2, 3, 4, 5]\n",
    "del lines[3]\n",
    "print(lines)\n",
    "\n",
    "del lines[0:3]\n",
    "print(lines)\n",
    "\n",
    "## Get the sub list\n",
    "origin_list = list(range(10))\n",
    "sub_list = list(set(origin_list) - set(origin_list[4:8]))\n",
    "print(sub_list)\n",
    "\n",
    "input_length = 3\n",
    "out = input_length / 2\n",
    "print(out)\n",
    "\n",
    "input_list = list(range(10))\n",
    "sub_list = list(set(input_list) - set(input_list[2:3]) - set(input_list[-3:]))\n",
    "print(sub_list)\n",
    "\n",
    "def delete_elements_in_list():\n",
    "    print(\"delete elements in a list\")\n",
    "    data = list(range(10))\n",
    "    print(data)\n",
    "    need_data = list(filter(lambda x: x % 2 != 0, data))\n",
    "    print(need_data)\n",
    "\n",
    "delete_elements_in_list()"
   ]
  },
  {
   "cell_type": "code",
   "execution_count": 11,
   "metadata": {},
   "outputs": [
    {
     "name": "stdout",
     "output_type": "stream",
     "text": [
      "origin:  [7, 6, 17, 8, 19, 15, 13, 0, 3, 9, 14, 4, 10, 12, 16, 5, 11, 18, 2, 1]\n",
      "after:   [7, 6, 17, 8, 19, 15, 13, 0, 3, 9, 14, 4, 10, 12, 16, 5, 11, 18, 2, 1]\n",
      "origin:  [0, 1, 2, 3, 4, 5, 6, 7, 8, 9, 10, 11, 12, 13, 14, 15, 16, 17, 18, 19]\n",
      "after:   [16, 11, 17, 14, 8, 19, 0, 13, 5, 7, 18, 6, 15, 4, 1, 10, 9, 12, 2, 3]\n"
     ]
    }
   ],
   "source": [
    "import random\n",
    "\n",
    "random.seed(2)\n",
    "list_data = list(range(20))\n",
    "\n",
    "seq_list = list_data\n",
    "random.shuffle(seq_list) # in place\n",
    "print(\"origin: \", seq_list)\n",
    "print(\"after:  \", list_data)\n",
    "\n",
    "list_data = list(range(20))\n",
    "output = random.sample(list_data, len(list_data))\n",
    "print(\"origin: \", list_data)\n",
    "print(\"after:  \", output)"
   ]
  },
  {
   "attachments": {},
   "cell_type": "markdown",
   "metadata": {},
   "source": [
    "## Extract sub list randomly"
   ]
  },
  {
   "cell_type": "code",
   "execution_count": 4,
   "metadata": {},
   "outputs": [
    {
     "name": "stdout",
     "output_type": "stream",
     "text": [
      "[13, 14, 15, 16]\n"
     ]
    }
   ],
   "source": [
    "import random\n",
    "\n",
    "def get_sub_list_randomly(input_list, sub_list_len):\n",
    "    assert sub_list_len <= len(input_list)\n",
    "    \n",
    "    len_diff = len(input_list) - sub_list_len\n",
    "    \n",
    "    start_idx = random.randint(0, len_diff)\n",
    "    return input_list[start_idx:start_idx+sub_list_len]\n",
    "\n",
    "list_a = list(range(20))\n",
    "sub_list = get_sub_list_randomly(list_a, 4)\n",
    "print(sub_list)\n",
    "        "
   ]
  },
  {
   "cell_type": "code",
   "execution_count": 8,
   "metadata": {},
   "outputs": [
    {
     "name": "stdout",
     "output_type": "stream",
     "text": [
      "[16, 12, 3, 4, 13, 0, 2]\n"
     ]
    }
   ],
   "source": [
    "import random\n",
    "\n",
    "choose_index = 5\n",
    "choose_length = 7\n",
    "\n",
    "all_indices = list(range(18))\n",
    "\n",
    "choose_indices = list(range(choose_index, choose_index + choose_length))\n",
    "\n",
    "candidate_indices = list(set(all_indices) - set(choose_indices))\n",
    "choices = random.sample(candidate_indices, k=choose_length)\n",
    "print(choices)"
   ]
  },
  {
   "attachments": {},
   "cell_type": "markdown",
   "metadata": {},
   "source": [
    "## Shuffle the list"
   ]
  },
  {
   "cell_type": "code",
   "execution_count": 2,
   "metadata": {},
   "outputs": [
    {
     "name": "stdout",
     "output_type": "stream",
     "text": [
      "[0, 1, 2, 3, 4, 5, 6, 7, 8, 9]\n",
      "[8, 2, 4, 3, 5, 1, 7, 9, 0, 6] None\n"
     ]
    }
   ],
   "source": [
    "import random\n",
    "input = list(range(10))\n",
    "print(input)\n",
    "\n",
    "output = random.shuffle(input)  # in-place\n",
    "print(input, output)"
   ]
  },
  {
   "cell_type": "code",
   "execution_count": 9,
   "metadata": {},
   "outputs": [
    {
     "name": "stdout",
     "output_type": "stream",
     "text": [
      "[0, 1, 2, 3, 4, 5, 6, 7, 8, 9]\n",
      "[1 3 5] <class 'numpy.ndarray'>\n",
      "[1, 3, 5] <class 'list'>\n"
     ]
    }
   ],
   "source": [
    "import numpy as np\n",
    "\n",
    "\n",
    "input = list(range(10))\n",
    "print(input)\n",
    "\n",
    "data = np.array(input)[[1, 3, 5]]\n",
    "print(data, type(data))\n",
    "\n",
    "data = data.tolist()\n",
    "print(data, type(data))"
   ]
  },
  {
   "attachments": {},
   "cell_type": "markdown",
   "metadata": {},
   "source": [
    "## Slice the list"
   ]
  },
  {
   "cell_type": "code",
   "execution_count": 5,
   "metadata": {},
   "outputs": [
    {
     "name": "stdout",
     "output_type": "stream",
     "text": [
      "[0]\n",
      "[0, 2, 4, 6, 8]\n",
      "[0, 1, 2, 3, 4, 5, 6, 7, 8]\n",
      "[9, 8, 7, 6, 5, 4, 3, 2, 1, 0]\n",
      "[0, 8, 16, 24, 32, 40, 48, 56, 64, 72, 80, 88, 96, 104, 112, 120, 128, 136, 144, 152, 160, 168, 176, 184, 192] 25\n",
      "Index get value:  [100  99  97  90  97] <class 'numpy.ndarray'> [100, 99, 97, 90, 97]\n",
      "[12, 23, 34]\n",
      "Test split_list:\n",
      "53478\n",
      "11 [0, 5000, 10000, 15000, 20000, 25000, 30000, 35000, 40000, 45000, 50000]\n",
      "9 (5942,)\n",
      "11\n",
      "[1, 2, 3, 4, 5, 6, 7, 8, 9]\n",
      "[2, 3, 4, 5, 6, 7, 8, 9]\n"
     ]
    }
   ],
   "source": [
    "def slice_list():\n",
    "    list_a = list(range(10))\n",
    "    ## 截取部分元素,注意就算只截取一个元素,返回的仍然是列表\n",
    "    res_a = list_a[0:1]\n",
    "    print(res_a)\n",
    "    ## 每隔两个取一个元素\n",
    "    res_a  = list_a[::2]  # [0, 2, 4, 6, 8]\n",
    "    print(res_a)\n",
    "    ## 删除最后一个元素\n",
    "    res_a = list_a[:-1]\n",
    "    print(res_a)\n",
    "    ## 元素倒序, 注意和删除最后一个元素写法的区别\n",
    "    res_a = list_a[::-1]\n",
    "    print(res_a)\n",
    "\n",
    "    ## 元素采样\n",
    "    list_a = list(range(200))\n",
    "    res =list_a[::8]\n",
    "    print(res, len(res))\n",
    "\n",
    "    ## 按索引取元素\n",
    "    list_a = list(range(100, 0, -1))\n",
    "    list_a = np.array(list_a)\n",
    "    idx = [0, 1, 3, 10, 3]\n",
    "    res = list_a[idx]\n",
    "    print(\"Index get value: \", res, type(res), res.tolist())\n",
    "\n",
    "\n",
    "def comma_operator():\n",
    "    bbox = [12, 23, 34, 56]\n",
    "    bbox = bbox[:-1]\n",
    "    print(bbox)\n",
    "\n",
    "\n",
    "def split_list_evenly():\n",
    "    lst = list(range(53478))\n",
    "    number = 5000\n",
    "    data_splited = [lst[i:i + number] for i in range(0, len(lst), 5000)]\n",
    "    print(len(data_splited))\n",
    "\n",
    "\n",
    "def split_list():\n",
    "    print(\"Test split_list:\")\n",
    "    data_list = list(range(53478))\n",
    "    print(len(data_list))\n",
    "\n",
    "    data_index = data_list[::5000]\n",
    "    print(len(data_index), data_index)\n",
    "    \n",
    "    data_list = np.split(np.array(data_list), 9)\n",
    "    print(len(data_list), data_list[0].shape)\n",
    "\n",
    "\n",
    "slice_list()\n",
    "comma_operator()\n",
    "\n",
    "split_list()\n",
    "\n",
    "split_list_evenly()\n",
    "\n",
    "list_data = list(range(1, 10))\n",
    "print(list_data)\n",
    "list_short = list_data[1:20]\n",
    "print(list_short)\n",
    "\n"
   ]
  },
  {
   "cell_type": "code",
   "execution_count": 3,
   "metadata": {},
   "outputs": [
    {
     "name": "stdout",
     "output_type": "stream",
     "text": [
      "Not 0\n"
     ]
    }
   ],
   "source": [
    "gpu = None\n",
    "\n",
    "if gpu != 0:\n",
    "    print(\"Not 0\")\n",
    "else:\n",
    "    print(\"0\")"
   ]
  },
  {
   "cell_type": "code",
   "execution_count": 13,
   "metadata": {},
   "outputs": [
    {
     "name": "stdout",
     "output_type": "stream",
     "text": [
      "80\n",
      "[0, 10, 20, 30, 40, 50, 60, 70]\n"
     ]
    }
   ],
   "source": [
    "list_length = 85\n",
    "interval_length = 10\n",
    "\n",
    "normed_list_length = int(list_length / interval_length) * interval_length\n",
    "print(normed_list_length)\n",
    "\n",
    "data_list = list(range(0, normed_list_length, interval_length))\n",
    "print(data_list)\n"
   ]
  },
  {
   "attachments": {},
   "cell_type": "markdown",
   "metadata": {},
   "source": [
    "## Reverse the list"
   ]
  },
  {
   "cell_type": "code",
   "execution_count": 1,
   "metadata": {},
   "outputs": [
    {
     "name": "stdout",
     "output_type": "stream",
     "text": [
      "[4, 3, 2, 1]\n"
     ]
    }
   ],
   "source": [
    "data_a = [1,2,3,4]\n",
    "data_a = data_a[::-1]\n",
    "print(data_a)"
   ]
  },
  {
   "attachments": {},
   "cell_type": "markdown",
   "metadata": {},
   "source": [
    "## Add and expand or expand multiple lists"
   ]
  },
  {
   "cell_type": "code",
   "execution_count": 3,
   "metadata": {},
   "outputs": [
    {
     "name": "stdout",
     "output_type": "stream",
     "text": [
      "[0, 1, 2, 3, 4]\n",
      "[5, 6, 7, 8, 9]\n",
      "result of + process:  [0, 1, 2, 3, 4, 5, 6, 7, 8, 9]\n",
      "[[0, 1, 2, 3, 4], [5, 6, 7, 8, 9]]\n"
     ]
    }
   ],
   "source": [
    "def add_list():\n",
    "    list_a = list(range(0, 5))\n",
    "    list_b = list(range(5, 10))\n",
    "    print(list_a)\n",
    "    print(list_b)\n",
    "    \n",
    "    ## Using + would expand the list\n",
    "    list_c = list_a + list_b\n",
    "    print(\"Result of + process: \", list_c) # [0, 1, 2, 3, 4, 5, 6, 7, 8, 9]\n",
    "\n",
    "    ## Using append would get a list of list\n",
    "    list_c = []\n",
    "    list_c.append(list_a)\n",
    "    list_c.append(list_b)\n",
    "    print(list_c) # [[0, 1, 2, 3, 4], [5, 6, 7, 8, 9]]\n",
    "\n",
    "add_list()"
   ]
  },
  {
   "attachments": {},
   "cell_type": "markdown",
   "metadata": {},
   "source": [
    "## Member functions of list"
   ]
  },
  {
   "cell_type": "code",
   "execution_count": 4,
   "metadata": {},
   "outputs": [
    {
     "name": "stdout",
     "output_type": "stream",
     "text": [
      "[1, 3, 1, 10, 8, 3, 1, 5, 7] 9\n",
      "3\n",
      "0\n",
      "[1, 1, 1, 3, 3, 5, 7, 8, 10]\n",
      "2\n"
     ]
    }
   ],
   "source": [
    "a_list = []\n",
    "a_list.append(1)\n",
    "a_list.append(3)\n",
    "a_list.append(1)\n",
    "a_list += [10,8,3,1,5,7]\n",
    "print(a_list, len(a_list))\n",
    "\n",
    "print(a_list.count(1)) # 对列表中元素进行计数\n",
    "print(a_list.index(1)) # 返回第一次找到1的索引\n",
    "a_list.sort()          # 对列表元素进行排序,in-place\n",
    "print(a_list)\n",
    "\n",
    "## index function to get the element position\n",
    "speakers = [\"zhang\", \"hai\", \"ming\"]\n",
    "idx = speakers.index(\"ming\")\n",
    "print(idx)"
   ]
  },
  {
   "attachments": {},
   "cell_type": "markdown",
   "metadata": {},
   "source": [
    "## Functions return list type"
   ]
  },
  {
   "cell_type": "code",
   "execution_count": 8,
   "metadata": {},
   "outputs": [
    {
     "name": "stdout",
     "output_type": "stream",
     "text": [
      "zhanghaiming 170 55\n",
      "[1, 2, 3, 4]\n"
     ]
    }
   ],
   "source": [
    "### 列表也可以像tuple一样进行解包\n",
    "def foo_list():\n",
    "    list_a = [\"zhanghaiming\", \"170\", \"55\"]\n",
    "    return list_a\n",
    "\n",
    "def receive_list(input):\n",
    "    print(input)\n",
    "\n",
    "name, height, weight = foo_list()\n",
    "print(name, height, weight)\n",
    "\n",
    "data = [1, 2, 3, 4]\n",
    "receive_list([*data])\n"
   ]
  },
  {
   "attachments": {},
   "cell_type": "markdown",
   "metadata": {},
   "source": [
    "## any and all functions"
   ]
  },
  {
   "cell_type": "code",
   "execution_count": 3,
   "metadata": {},
   "outputs": [
    {
     "name": "stdout",
     "output_type": "stream",
     "text": [
      "True\n"
     ]
    }
   ],
   "source": [
    "length = [1, 2, -3, -3]\n",
    "\n",
    "has_negtive = any(i < 0 for i in length)\n",
    "\n",
    "print(has_negtive)"
   ]
  },
  {
   "attachments": {},
   "cell_type": "markdown",
   "metadata": {},
   "source": [
    "## Operate on list"
   ]
  },
  {
   "cell_type": "code",
   "execution_count": 6,
   "metadata": {},
   "outputs": [
    {
     "name": "stdout",
     "output_type": "stream",
     "text": [
      "9.8\n",
      "[False False False  True  True]\n",
      "Mean is 4.5600000000000005\n"
     ]
    }
   ],
   "source": [
    "import numpy as np\n",
    "list_a = [1, 2.0, 3.0, 7.0, 9.8]\n",
    "print(max(list_a))\n",
    "\n",
    "list_b = np.array(list_a) > 3.0\n",
    "print(list_b)\n",
    "\n",
    "### Calculate the mean value\n",
    "list_a = [1, 2.0, 3.0, 7.0, 9.8]\n",
    "print(f\"Mean is {sum(list_a) / len(list_a)}\")"
   ]
  },
  {
   "cell_type": "code",
   "execution_count": 13,
   "metadata": {},
   "outputs": [
    {
     "name": "stdout",
     "output_type": "stream",
     "text": [
      "[512.   512.     0.7  248.78 245.6 ] (5,)\n",
      "(2, 5)\n",
      "(2,)\n",
      "<class 'numpy.ndarray'>\n",
      "<class 'list'> [248.78, 245.6]\n"
     ]
    }
   ],
   "source": [
    "import numpy as np\n",
    "transform_params = np.array([512, 512, 0.7, np.array(248.78), np.array(245.6)])\n",
    "transform_params1 = np.array([512, 512, 0.7, np.array(248.78), np.array(245.6)])\n",
    "\n",
    "print(transform_params, transform_params.shape)\n",
    "\n",
    "combine_params = np.stack([transform_params, transform_params1], axis=0)\n",
    "print(combine_params.shape)\n",
    "\n",
    "transform_params = combine_params[0]\n",
    "\n",
    "sTx, sTy = 10, 20.0\n",
    "t = np.stack([sTx, sTy], axis=0)\n",
    "print(t.shape)\n",
    "\n",
    "t = transform_params[3:]\n",
    "print(type(t))\n",
    "t = [elem.item() for elem in t]\n",
    "print(type(t), t)\n"
   ]
  },
  {
   "cell_type": "code",
   "execution_count": 6,
   "metadata": {},
   "outputs": [
    {
     "name": "stdout",
     "output_type": "stream",
     "text": [
      "[1]\n"
     ]
    }
   ],
   "source": [
    "a = list(range(10, 15))\n",
    "\n",
    "a = [1,1,1]\n",
    "\n",
    "print(np.unique(a))"
   ]
  },
  {
   "cell_type": "code",
   "execution_count": 4,
   "metadata": {},
   "outputs": [
    {
     "name": "stdout",
     "output_type": "stream",
     "text": [
      "1\n",
      "0\n"
     ]
    }
   ],
   "source": [
    "index = 147\n",
    "num_candidates_perframe = 147\n",
    "\n",
    "print(int(index / (num_candidates_perframe)))\n",
    "print(int(index % (num_candidates_perframe)))\n"
   ]
  },
  {
   "cell_type": "code",
   "execution_count": 25,
   "metadata": {},
   "outputs": [
    {
     "name": "stdout",
     "output_type": "stream",
     "text": [
      "input length 20\n",
      "[11, 14, 7, 5, 5]\n",
      "(6, 13)\n"
     ]
    }
   ],
   "source": [
    "### Choose frames other than neighbors\n",
    "import random\n",
    "\n",
    "fname_list = list(range(20))\n",
    "\n",
    "def select_specified_length_random_list(list_input, choice_idx, neighbor_length):\n",
    "    if choice_idx + neighbor_length > len(list_input):\n",
    "        return None\n",
    "\n",
    "    remove_idx_list = list(range(choice_idx, choice_idx + neighbor_length))\n",
    "    \n",
    "    input_idx_list = list(range(len(list_input)))\n",
    "\n",
    "    remained_idx_list = [x for x in input_idx_list if x not in remove_idx_list]\n",
    "    \n",
    "    return random.choices(remained_idx_list, k=neighbor_length)\n",
    "\n",
    "def get_splitters_with_specific_distance(list_input, min_distance=5):\n",
    "    all_frames_length = len(list_input)\n",
    "    all_frames_idx = list(range(all_frames_length))\n",
    "    \n",
    "    avaiable_choose_idx = list(range(all_frames_length - min_distance))\n",
    "    \n",
    "    while 1:\n",
    "        choose_idx = random.sample(avaiable_choose_idx, k=2)\n",
    "        if abs(choose_idx[0] - choose_idx[1]) <= min_distance:\n",
    "            continue\n",
    "        else:\n",
    "            break\n",
    "    \n",
    "    return choose_idx[0], choose_idx[1]\n",
    "    \n",
    "\n",
    "print(f\"input length {len(fname_list)}\")\n",
    "print(select_specified_length_random_list(fname_list, 15, 5))\n",
    "\n",
    "print(get_splitters_with_specific_distance(fname_list))\n",
    "\n",
    "    "
   ]
  },
  {
   "attachments": {},
   "cell_type": "markdown",
   "metadata": {},
   "source": [
    "## Calculate the mean value of list"
   ]
  },
  {
   "cell_type": "code",
   "execution_count": 2,
   "metadata": {},
   "outputs": [
    {
     "name": "stdout",
     "output_type": "stream",
     "text": [
      "255 15\n",
      "mean value is 17.0\n"
     ]
    }
   ],
   "source": [
    "list_a = list(range(10, 25))\n",
    "print(sum(list_a), len(list_a))\n",
    "mean_a = sum(list_a) / len(list_a)\n",
    "print(f\"mean value is {mean_a}\")"
   ]
  },
  {
   "cell_type": "markdown",
   "metadata": {},
   "source": [
    "## zip"
   ]
  },
  {
   "cell_type": "code",
   "execution_count": 1,
   "metadata": {},
   "outputs": [
    {
     "name": "stdout",
     "output_type": "stream",
     "text": [
      "[0, 1, 2, 3, 4, 5, 6, 7, 8, 9]\n"
     ]
    }
   ],
   "source": [
    "data1 = [0, 2, 4, 6, 8]\n",
    "data2 = [1, 3, 5, 7, 9]\n",
    "\n",
    "part_list = [data1, data2]\n",
    "\n",
    "# sort the results\n",
    "ordered_results = []\n",
    "for res in zip(*part_list):\n",
    "    ordered_results.extend(list(res))\n",
    "\n",
    "print(ordered_results)"
   ]
  },
  {
   "cell_type": "code",
   "execution_count": 2,
   "metadata": {},
   "outputs": [
    {
     "name": "stdout",
     "output_type": "stream",
     "text": [
      "[(1, 4, './results'), (2, 5, './results'), (3, 6, './results'), (4, 7, './results')]\n",
      "1 4 ./results\n"
     ]
    }
   ],
   "source": [
    "import itertools\n",
    "\n",
    "data1 = [1, 2, 3, 4]\n",
    "data2 = [4, 5, 6, 7]\n",
    "save_dir = \"./results\"\n",
    "\n",
    "parameters = zip(data1, data2, itertools.repeat(save_dir))\n",
    "\n",
    "args = [entry for entry in parameters]\n",
    "print(args)\n",
    "\n",
    "def function(arg1, arg2, arg3):\n",
    "    print(arg1, arg2, arg3)\n",
    "\n",
    "function(*args[0])"
   ]
  },
  {
   "cell_type": "markdown",
   "metadata": {},
   "source": [
    "## Miscellaneous"
   ]
  },
  {
   "cell_type": "code",
   "execution_count": 13,
   "metadata": {},
   "outputs": [
    {
     "name": "stdout",
     "output_type": "stream",
     "text": [
      "Has zero\n",
      "Has zero\n"
     ]
    }
   ],
   "source": [
    "weight = [0.0, 1.0]\n",
    "\n",
    "if all(elem > 0 for elem in weight):\n",
    "    print(\"Not all zero\")\n",
    "else:\n",
    "    print(\"Has zero\")\n",
    "\n",
    "weight = [0.0]\n",
    "\n",
    "if any(weight):\n",
    "    print(\"Not all zero\")\n",
    "else:\n",
    "    print(\"Has zero\")"
   ]
  }
 ],
 "metadata": {
  "kernelspec": {
   "display_name": "Python 3.8.13 ('py38-torch100-cu11')",
   "language": "python",
   "name": "python3"
  },
  "language_info": {
   "codemirror_mode": {
    "name": "ipython",
    "version": 3
   },
   "file_extension": ".py",
   "mimetype": "text/x-python",
   "name": "python",
   "nbconvert_exporter": "python",
   "pygments_lexer": "ipython3",
   "version": "3.8.18"
  },
  "orig_nbformat": 4,
  "vscode": {
   "interpreter": {
    "hash": "56d0891f27fe2db3830dc2a05bc70f05135b0c30ed7c190a150d1aca2da3af60"
   }
  }
 },
 "nbformat": 4,
 "nbformat_minor": 2
}
