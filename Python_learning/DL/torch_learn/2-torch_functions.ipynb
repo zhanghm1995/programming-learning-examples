{
 "cells": [
  {
   "cell_type": "code",
   "execution_count": 2,
   "metadata": {},
   "outputs": [],
   "source": [
    "import torch\n",
    "import numpy as np\n",
    "from torch.nn import functional as F"
   ]
  },
  {
   "cell_type": "code",
   "execution_count": 4,
   "metadata": {},
   "outputs": [
    {
     "name": "stdout",
     "output_type": "stream",
     "text": [
      "[3, 4, 2, 1]\n"
     ]
    }
   ],
   "source": [
    "aa = [1, 2, 3, 4]\n",
    "import numpy as np\n",
    "\n",
    "np.random.shuffle(aa)\n",
    "print(aa)"
   ]
  },
  {
   "cell_type": "code",
   "execution_count": 39,
   "metadata": {},
   "outputs": [
    {
     "name": "stdout",
     "output_type": "stream",
     "text": [
      "0.33066794459097115\n",
      "tensor([[1., 1., 1., 0.],\n",
      "        [0., 0., 0., 0.],\n",
      "        [1., 0., 1., 0.]])\n"
     ]
    }
   ],
   "source": [
    "msm_bernoulli_prob = [0.2, 0.8]\n",
    "\n",
    "p = np.random.uniform(*msm_bernoulli_prob)\n",
    "print(p)\n",
    "mask1 = torch.bernoulli(torch.ones(3, 4) * p)\n",
    "print(mask1)"
   ]
  },
  {
   "cell_type": "code",
   "execution_count": 6,
   "metadata": {},
   "outputs": [
    {
     "name": "stdout",
     "output_type": "stream",
     "text": [
      "tensor([[0.6817, 0.9028, 0.9015],\n",
      "        [0.7266, 0.8289, 0.2455]])\n",
      "tensor([[0.2863, 0.3571, 0.3566],\n",
      "        [0.3669, 0.4064, 0.2268]])\n",
      "tensor([1., 1.])\n"
     ]
    }
   ],
   "source": [
    "x = torch.rand(2, 3)\n",
    "print(x)\n",
    "\n",
    "y = F.softmax(x, dim=1)\n",
    "print(y)\n",
    "\n",
    "z = torch.sum(y, dim=1)\n",
    "print(z)"
   ]
  },
  {
   "cell_type": "markdown",
   "metadata": {},
   "source": [
    "## torch.any"
   ]
  },
  {
   "cell_type": "code",
   "execution_count": 23,
   "metadata": {},
   "outputs": [
    {
     "name": "stdout",
     "output_type": "stream",
     "text": [
      "tensor([[7, 6, 2],\n",
      "        [3, 1, 7]])\n",
      "no\n"
     ]
    }
   ],
   "source": [
    "import torch\n",
    "\n",
    "x = torch.randint(0, 10, (2, 3))\n",
    "print(x)\n",
    "\n",
    "if torch.any(x == 5):\n",
    "    print('yes')\n",
    "else:\n",
    "    print('no')"
   ]
  },
  {
   "cell_type": "markdown",
   "metadata": {},
   "source": [
    "## torch.eq"
   ]
  },
  {
   "cell_type": "code",
   "execution_count": null,
   "metadata": {},
   "outputs": [
    {
     "name": "stdout",
     "output_type": "stream",
     "text": [
      "tensor([0, 1, 0, 1, 0])\n",
      "tensor([1, 1, 1, 0, 1])\n"
     ]
    },
    {
     "data": {
      "text/plain": [
       "tensor([False,  True, False, False, False])"
      ]
     },
     "metadata": {},
     "output_type": "display_data"
    }
   ],
   "source": [
    "# Import torch and create dummy tensors\n",
    "import torch\n",
    "\n",
    "A = torch.randint(2, (5,))\n",
    "print(A)\n",
    "B = torch.randint(2, (5,))\n",
    "print(B)\n",
    "# Checking for number of equal values\n",
    "C = torch.eq(A, B)\n",
    "C"
   ]
  },
  {
   "cell_type": "code",
   "execution_count": 19,
   "metadata": {},
   "outputs": [
    {
     "name": "stdout",
     "output_type": "stream",
     "text": [
      "tensor([ True, False, False,  True,  True])\n",
      "tensor([ True, False,  True,  True,  True])\n",
      "tensor([ True, False, False,  True,  True])\n",
      "(tensor([0, 3, 4]),)\n"
     ]
    }
   ],
   "source": [
    "import torch\n",
    "\n",
    "a = torch.randint(2, (5,), dtype=torch.bool)\n",
    "print(a)\n",
    "\n",
    "b = torch.randint(2, (5,), dtype=torch.bool)\n",
    "print(b)\n",
    "\n",
    "c = a & b\n",
    "print(c)\n",
    "\n",
    "# get the indices\n",
    "idx = torch.where(c)\n",
    "print(idx)"
   ]
  },
  {
   "cell_type": "markdown",
   "metadata": {},
   "source": [
    "## torch.expand()"
   ]
  },
  {
   "cell_type": "code",
   "execution_count": 4,
   "metadata": {},
   "outputs": [
    {
     "name": "stdout",
     "output_type": "stream",
     "text": [
      "tensor([0.8704, 0.7653, 0.5003]) torch.Size([3])\n",
      "torch.Size([4, 3])\n"
     ]
    }
   ],
   "source": [
    "import torch\n",
    "\n",
    "data = torch.rand(3)\n",
    "print(data, data.shape)\n",
    "\n",
    "data = data.expand((4, 3))\n",
    "print(data.shape)"
   ]
  },
  {
   "cell_type": "markdown",
   "metadata": {},
   "source": [
    "## torch.flatten"
   ]
  },
  {
   "cell_type": "code",
   "execution_count": 9,
   "metadata": {},
   "outputs": [
    {
     "name": "stdout",
     "output_type": "stream",
     "text": [
      "tensor(3) torch.Size([])\n",
      "tensor([3]) torch.Size([1])\n"
     ]
    }
   ],
   "source": [
    "import torch\n",
    "\n",
    "data = torch.tensor(3)\n",
    "print(data, data.shape)\n",
    "\n",
    "data = data.flatten()\n",
    "print(data, data.shape)\n",
    "\n"
   ]
  },
  {
   "attachments": {},
   "cell_type": "markdown",
   "metadata": {},
   "source": [
    "## torch.min() and torch.max()"
   ]
  },
  {
   "cell_type": "code",
   "execution_count": 1,
   "metadata": {},
   "outputs": [
    {
     "name": "stdout",
     "output_type": "stream",
     "text": [
      "tensor(10.) tensor(2)\n",
      "tensor([[ 0.9726, -0.1867,  1.8385],\n",
      "        [ 0.6576, -0.6360,  0.8237]])\n",
      "tensor(1.8385)\n"
     ]
    }
   ],
   "source": [
    "import torch\n",
    "\n",
    "input = torch.Tensor([-10, -10, 10, 10, 10])\n",
    "max_data, max_idx = torch.max(input, dim=0)\n",
    "print(max_data, max_idx)\n",
    "\n",
    "data = torch.randn(2, 3)\n",
    "print(data)\n",
    "\n",
    "max_data = data.max()\n",
    "print(max_data)"
   ]
  },
  {
   "cell_type": "code",
   "execution_count": 10,
   "metadata": {},
   "outputs": [
    {
     "name": "stdout",
     "output_type": "stream",
     "text": [
      "tensor([[ 0.9402, -0.5233],\n",
      "        [ 0.6936, -0.0681],\n",
      "        [ 1.7741,  0.9901]])\n",
      "tensor([-0.5233, -0.0681,  0.9901]) torch.Size([3])\n",
      "tensor([1, 1, 1])\n",
      "tensor([[-0.5233],\n",
      "        [-0.0681],\n",
      "        [ 0.9901]]) torch.Size([3, 1])\n",
      "torch.Size([5, 6, 256, 196]) True\n",
      "torch.Size([5, 256, 196]) True\n"
     ]
    }
   ],
   "source": [
    "import torch\n",
    "\n",
    "data = torch.randn(3, 2)\n",
    "print(data)\n",
    "\n",
    "min_dist, min_idx = torch.min(data, dim=-1)\n",
    "print(min_dist, min_dist.shape)\n",
    "print(min_idx)\n",
    "\n",
    "min_dist = min_dist.unsqueeze(-1)\n",
    "print(min_dist, min_dist.shape)\n",
    "\n",
    "\n",
    "input = torch.randn(5, 6, 256, 196).requires_grad_()\n",
    "print(input.shape, input.requires_grad)\n",
    "output = torch.max(input, dim=1)[0]\n",
    "print(output.shape, output.requires_grad)"
   ]
  },
  {
   "attachments": {},
   "cell_type": "markdown",
   "metadata": {},
   "source": [
    "## torch.mean()"
   ]
  },
  {
   "cell_type": "code",
   "execution_count": 8,
   "metadata": {},
   "outputs": [
    {
     "name": "stdout",
     "output_type": "stream",
     "text": [
      "tensor([[0., 1.],\n",
      "        [2., 3.],\n",
      "        [4., 5.],\n",
      "        [6., 7.],\n",
      "        [8., 9.]])\n",
      "tensor([0.5000, 2.5000, 4.5000, 6.5000, 8.5000])\n",
      "tensor(4.5000)\n",
      "tensor(4.5000)\n"
     ]
    }
   ],
   "source": [
    "import torch\n",
    "data = torch.arange(10).reshape(5, 2).float()\n",
    "print(data)\n",
    "data_mean = torch.mean(data, dim=1)\n",
    "print(data_mean)\n",
    "data_mean2 = torch.mean(data_mean)\n",
    "print(data_mean2)\n",
    "\n",
    "data_meann = torch.mean(data)\n",
    "print(data_meann)"
   ]
  },
  {
   "cell_type": "markdown",
   "metadata": {},
   "source": [
    "## torch.meshgrid"
   ]
  },
  {
   "cell_type": "code",
   "execution_count": 5,
   "metadata": {},
   "outputs": [
    {
     "name": "stdout",
     "output_type": "stream",
     "text": [
      "tensor([[1, 1],\n",
      "        [2, 2],\n",
      "        [3, 3]])\n",
      "tensor([[4, 5],\n",
      "        [4, 5],\n",
      "        [4, 5]])\n",
      "tensor([[[1, 4],\n",
      "         [1, 5]],\n",
      "\n",
      "        [[2, 4],\n",
      "         [2, 5]],\n",
      "\n",
      "        [[3, 4],\n",
      "         [3, 5]]]) torch.Size([3, 2, 2])\n"
     ]
    }
   ],
   "source": [
    "import torch\n",
    "\n",
    "x = torch.tensor([1, 2, 3])\n",
    "y = torch.tensor([4, 5])\n",
    "\n",
    "xx, yy = torch.meshgrid(x, y, indexing='ij')\n",
    "print(xx)\n",
    "print(yy)\n",
    "\n",
    "grid = torch.stack([xx, yy], dim=-1)\n",
    "print(grid, grid.shape)"
   ]
  },
  {
   "cell_type": "code",
   "execution_count": 8,
   "metadata": {},
   "outputs": [
    {
     "name": "stdout",
     "output_type": "stream",
     "text": [
      "tensor([0, 1])\n",
      "tensor([0, 1, 2])\n",
      "tensor([[0, 0, 0],\n",
      "        [1, 1, 1]]) grid_y\n",
      "tensor([[0, 1, 2],\n",
      "        [0, 1, 2]]) grid_x\n",
      "tensor([[[0, 0],\n",
      "         [1, 0],\n",
      "         [2, 0]],\n",
      "\n",
      "        [[0, 1],\n",
      "         [1, 1],\n",
      "         [2, 1]]]) torch.Size([2, 3, 2])\n"
     ]
    }
   ],
   "source": [
    "import torch\n",
    "\n",
    "h, w = 2, 3\n",
    "lin_y = torch.arange(0, h)\n",
    "lin_x = torch.arange(0, w)\n",
    "grid_y, grid_x = torch.meshgrid(lin_y, lin_x, indexing='ij')\n",
    "grid = torch.stack((grid_x, grid_y), -1)\n",
    "print(lin_y)\n",
    "print(lin_x)\n",
    "print(grid_y, 'grid_y')\n",
    "print(grid_x, 'grid_x')\n",
    "print(grid, grid.shape)"
   ]
  },
  {
   "cell_type": "code",
   "execution_count": 2,
   "metadata": {},
   "outputs": [],
   "source": [
    "import torch\n",
    "\n",
    "x_bound = [-40, 40, 0.8]\n",
    "y_bound = [-40, 40, 0.8]\n",
    "z_bound = [-1, 5.4, 1.6]\n",
    "\n",
    "X = torch.arange(*x_bound, dtype=torch.float) + x_bound[-1]/2\n",
    "Y = torch.arange(*y_bound, dtype=torch.float) + y_bound[-1]/2\n",
    "Z = torch.arange(*z_bound, dtype=torch.float) + z_bound[-1]/2\n",
    "Y, X, Z = torch.meshgrid([Y, X, Z])\n",
    "coords = torch.stack([X, Y, Z], dim=-1)\n",
    "print(coords.shape)"
   ]
  },
  {
   "attachments": {},
   "cell_type": "markdown",
   "metadata": {},
   "source": [
    "## torch.argmin"
   ]
  },
  {
   "cell_type": "code",
   "execution_count": 4,
   "metadata": {},
   "outputs": [
    {
     "name": "stdout",
     "output_type": "stream",
     "text": [
      "tensor([[ 2.7553,  1.3871],\n",
      "        [ 1.0058, -1.3197],\n",
      "        [ 0.9727,  0.0923],\n",
      "        [ 2.9525, -1.1732],\n",
      "        [-0.7277,  1.3667]])\n",
      "tensor([1, 1, 1, 1, 0]) torch.Size([5])\n"
     ]
    }
   ],
   "source": [
    "import torch\n",
    "\n",
    "distances = torch.randn(5, 2)\n",
    "print(distances)\n",
    "\n",
    "dis_idx = torch.argmin(distances, axis=1)\n",
    "print(dis_idx, dis_idx.shape)"
   ]
  },
  {
   "attachments": {},
   "cell_type": "markdown",
   "metadata": {},
   "source": [
    "## torch.linspace"
   ]
  },
  {
   "cell_type": "code",
   "execution_count": 5,
   "metadata": {},
   "outputs": [
    {
     "name": "stdout",
     "output_type": "stream",
     "text": [
      "tensor([ 1.,  2.,  3.,  4.,  5.,  6.,  7.,  8.,  9., 10.]) torch.Size([10])\n",
      "3 <class 'tuple'>\n",
      "(tensor([1., 2., 3., 4.]), tensor([5., 6., 7., 8.]), tensor([ 9., 10.]))\n"
     ]
    }
   ],
   "source": [
    "import torch\n",
    "\n",
    "X = torch.linspace(1, 10, 10)\n",
    "print(X, X.shape)\n",
    "\n",
    "X_splited = X.split(4)\n",
    "print(len(X_splited), type(X_splited))\n",
    "print(X_splited)"
   ]
  },
  {
   "cell_type": "markdown",
   "metadata": {},
   "source": [
    "## torch.multinomial\n",
    "https://pytorch.org/docs/stable/generated/torch.multinomial.html#torch.multinomial"
   ]
  },
  {
   "cell_type": "code",
   "execution_count": 45,
   "metadata": {},
   "outputs": [
    {
     "name": "stdout",
     "output_type": "stream",
     "text": [
      "tensor([0, 3, 2])\n",
      "tensor([0, 1, 2, 3, 4, 5])\n",
      "tensor([4, 3])\n"
     ]
    }
   ],
   "source": [
    "import torch\n",
    "import numpy as np\n",
    "\n",
    "num_random_view = 3\n",
    "rand_ind = torch.multinomial(\n",
    "                    torch.tensor([1/num_random_view] * 6), \n",
    "                    num_random_view, \n",
    "                    replacement=False)\n",
    "print(rand_ind)\n",
    "\n",
    "dummy_rand_ind = torch.arange(6)\n",
    "print(dummy_rand_ind)\n",
    "\n",
    "a = torch.tensor([1, 2, 3, 4])\n",
    "p = torch.tensor([0.1, 0.2, 0.2, 0.6])\n",
    "n = 2\n",
    "replace = False\n",
    "idx = p.multinomial(num_samples=n, replacement=replace)\n",
    "b = a[idx]\n",
    "print(b)"
   ]
  },
  {
   "cell_type": "markdown",
   "metadata": {},
   "source": [
    "## torch.nonzero"
   ]
  },
  {
   "cell_type": "code",
   "execution_count": 5,
   "metadata": {},
   "outputs": [
    {
     "name": "stdout",
     "output_type": "stream",
     "text": [
      "tensor([[2, 4, 5, 0, 5],\n",
      "        [5, 8, 9, 7, 2],\n",
      "        [4, 2, 1, 1, 0],\n",
      "        [9, 5, 2, 4, 4],\n",
      "        [2, 5, 8, 3, 6]]) torch.Size([5, 5])\n",
      "tensor([[2, 2],\n",
      "        [2, 3]]) torch.Size([2, 2])\n"
     ]
    }
   ],
   "source": [
    "# Create a sample instance map tensor\n",
    "H, W = 5, 5\n",
    "instance_map = torch.randint(0, 10, size=(H, W))\n",
    "\n",
    "print(instance_map, instance_map.shape)\n",
    "\n",
    "instance_id = 1\n",
    "mask = instance_map == instance_id  # Create a mask for the current instance\n",
    "valid_indices = torch.nonzero(mask)\n",
    "print(valid_indices, valid_indices.shape)"
   ]
  },
  {
   "cell_type": "code",
   "execution_count": 16,
   "metadata": {},
   "outputs": [
    {
     "name": "stdout",
     "output_type": "stream",
     "text": [
      "tensor([0, 2, 3, 4, 5, 6, 7, 8, 9]) torch.Size([9])\n",
      "torch.Size([5, 5, 9, 1])\n",
      "tensor([[[19,  2, 13,  3, 15, 11, 13,  0, 13],\n",
      "         [19,  2, 13,  3, 15, 11, 13,  0, 13],\n",
      "         [19,  2, 13,  3, 15, 11, 13,  0, 13],\n",
      "         [19,  2, 13,  3, 15, 11, 13,  0, 13],\n",
      "         [19,  2, 13,  3, 15, 11, 13,  0, 13]],\n",
      "\n",
      "        [[19,  2, 13,  3, 15, 11, 13,  0, 13],\n",
      "         [19,  2, 13,  3, 15, 11, 13,  0, 13],\n",
      "         [19,  2, 13,  3, 15, 11, 13,  0, 13],\n",
      "         [19,  2, 13,  3, 15, 11, 13,  0, 13],\n",
      "         [19,  2, 13,  3, 15, 11, 13,  0, 13]],\n",
      "\n",
      "        [[19,  2, 13,  3, 15, 11, 13,  0, 13],\n",
      "         [19,  2, 13,  3, 15, 11, 13,  0, 13],\n",
      "         [19,  2, 13,  3, 15, 11, 13,  0, 13],\n",
      "         [19,  2, 13,  3, 15, 11, 13,  0, 13],\n",
      "         [19,  2, 13,  3, 15, 11, 13,  0, 13]],\n",
      "\n",
      "        [[19,  2, 13,  3, 15, 11, 13,  0, 13],\n",
      "         [19,  2, 13,  3, 15, 11, 13,  0, 13],\n",
      "         [19,  2, 13,  3, 15, 11, 13,  0, 13],\n",
      "         [19,  2, 13,  3, 15, 11, 13,  0, 13],\n",
      "         [19,  2, 13,  3, 15, 11, 13,  0, 13]],\n",
      "\n",
      "        [[19,  2, 13,  3, 15, 11, 13,  0, 13],\n",
      "         [19,  2, 13,  3, 15, 11, 13,  0, 13],\n",
      "         [19,  2, 13,  3, 15, 11, 13,  0, 13],\n",
      "         [19,  2, 13,  3, 15, 11, 13,  0, 13],\n",
      "         [19,  2, 13,  3, 15, 11, 13,  0, 13]]])\n"
     ]
    }
   ],
   "source": [
    "import torch\n",
    "\n",
    "# Create a sample instance map tensor\n",
    "H, W = 5, 5\n",
    "instance_map = torch.randint(0, 10, size=(H, W, 1))  # Replace with your instance map tensor\n",
    "\n",
    "# Step 1: Compute unique instance IDs\n",
    "unique_instance_ids = torch.unique(instance_map)\n",
    "print(unique_instance_ids, unique_instance_ids.shape)\n",
    "\n",
    "# Step 2: Generate random indices for each unique instance\n",
    "random_indices = torch.randint(0, H * W, size=(len(unique_instance_ids),))\n",
    "\n",
    "# Create a mask with the shape [H, W, num_unique_instances]\n",
    "mask = instance_map.unsqueeze(2) == unique_instance_ids.unsqueeze(1)\n",
    "print(mask.shape)\n",
    "\n",
    "# Use scatter to select one random pixel from each instance\n",
    "selected_pixels = torch.where(mask, random_indices, H * W).min(dim=2)[0]\n",
    "\n",
    "# Print the selected pixels\n",
    "print(selected_pixels)\n"
   ]
  },
  {
   "cell_type": "code",
   "execution_count": 29,
   "metadata": {},
   "outputs": [
    {
     "name": "stdout",
     "output_type": "stream",
     "text": [
      "tensor([[3, 7, 5],\n",
      "        [5, 3, 7],\n",
      "        [6, 0, 1]]) torch.Size([3, 3])\n",
      "tensor([0, 1, 3, 5, 6, 7])\n",
      "tensor([[False, False, False],\n",
      "        [False, False, False],\n",
      "        [False,  True, False]]) torch.Size([3, 3])\n",
      "tensor([[False, False, False],\n",
      "        [False, False, False],\n",
      "        [False,  True, False]]) torch.Size([3, 3, 6])\n",
      "tensor([[False,  True, False],\n",
      "        [False, False,  True],\n",
      "        [False, False, False]]) torch.Size([3, 3, 6])\n",
      "tensor([[0, 0, 0, 2],\n",
      "        [0, 0, 1, 5],\n",
      "        [0, 0, 2, 3],\n",
      "        [0, 1, 0, 3],\n",
      "        [0, 1, 1, 2],\n",
      "        [0, 1, 2, 5],\n",
      "        [0, 2, 0, 4],\n",
      "        [0, 2, 1, 0],\n",
      "        [0, 2, 2, 1]]) torch.Size([9, 4])\n",
      "tensor([[8, 3, 2],\n",
      "        [2, 8, 3],\n",
      "        [5, 6, 0]])\n"
     ]
    }
   ],
   "source": [
    "import torch\n",
    "\n",
    "# Create a sample instance map tensor\n",
    "H, W = 3, 3\n",
    "instance_map = torch.randint(0, 10, size=(H, W))  # Replace with your instance map tensor\n",
    "print(instance_map, instance_map.shape)\n",
    "# Step 1: Compute unique instance IDs\n",
    "unique_instance_ids = torch.unique(instance_map)\n",
    "print(unique_instance_ids)\n",
    "\n",
    "# Step 2: Generate random indices for each unique instance\n",
    "random_indices = torch.randint(0, H * W, size=(len(unique_instance_ids),))\n",
    "\n",
    "# Create a mask with the shape [H, W, num_unique_instances]\n",
    "mask = instance_map == unique_instance_ids[0]\n",
    "print(mask, mask.shape)\n",
    "\n",
    "mask = (instance_map.unsqueeze(2) == unique_instance_ids)\n",
    "print(mask[..., 0], mask.shape)\n",
    "print(mask[..., -1], mask.shape)\n",
    "\n",
    "selected_pixels = torch.nonzero(mask[None])\n",
    "print(selected_pixels, selected_pixels.shape)\n",
    "\n",
    "# Use scatter to select one random pixel from each instance\n",
    "selected_pixels = (mask * random_indices).sum(dim=2).long()\n",
    "\n",
    "# Print the selected pixels\n",
    "print(selected_pixels)\n"
   ]
  },
  {
   "attachments": {},
   "cell_type": "markdown",
   "metadata": {},
   "source": [
    "## torch.cdist\n",
    "https://pytorch.org/docs/stable/generated/torch.cdist.html"
   ]
  },
  {
   "cell_type": "code",
   "execution_count": 4,
   "metadata": {},
   "outputs": [
    {
     "name": "stdout",
     "output_type": "stream",
     "text": [
      "tensor([[0., 1.],\n",
      "        [2., 3.]]) torch.Size([2, 2])\n",
      "tensor([[0., 1.],\n",
      "        [2., 3.],\n",
      "        [4., 5.]]) torch.float32 torch.Size([3, 2])\n",
      "tensor([[0.0000, 2.8284],\n",
      "        [2.8284, 0.0000],\n",
      "        [5.6569, 2.8284]]) torch.Size([3, 2])\n"
     ]
    }
   ],
   "source": [
    "import torch\n",
    "\n",
    "x1 = torch.arange(4).reshape(2, 2).to(torch.float)\n",
    "x2 = torch.arange(6).reshape(3, 2).to(torch.float)\n",
    "print(x1, x1.shape)\n",
    "print(x2, x2.dtype, x2.shape)\n",
    "\n",
    "dist = torch.cdist(x1, x2)\n",
    "dist = torch.cdist(x2, x1)\n",
    "print(dist, dist.shape)"
   ]
  },
  {
   "cell_type": "markdown",
   "metadata": {},
   "source": [
    "## torch.rot90 & torch.flip"
   ]
  },
  {
   "cell_type": "code",
   "execution_count": 5,
   "metadata": {},
   "outputs": [
    {
     "name": "stdout",
     "output_type": "stream",
     "text": [
      "tensor([[0., 1., 2.],\n",
      "        [3., 4., 5.]]) torch.Size([2, 3])\n",
      "tensor([[3., 4., 5.],\n",
      "        [0., 1., 2.]]) torch.Size([2, 3])\n",
      "[[0. 1. 2.]\n",
      " [3. 4. 5.]] (2, 3)\n",
      "[[3. 4. 5.]\n",
      " [0. 1. 2.]] (2, 3)\n"
     ]
    }
   ],
   "source": [
    "import torch\n",
    "\n",
    "x_raw = torch.arange(6).reshape(2, 3).to(torch.float)\n",
    "print(x_raw, x_raw.shape)\n",
    "\n",
    "x = torch.flip(x_raw, dims=[0])\n",
    "print(x, x.shape)\n",
    "\n",
    "y = x_raw.numpy()\n",
    "print(y, y.shape)\n",
    "\n",
    "y = y[::-1, ...]\n",
    "print(y, y.shape)"
   ]
  },
  {
   "attachments": {},
   "cell_type": "markdown",
   "metadata": {},
   "source": [
    "## torch.gather\n",
    "\n",
    "https://pytorch.org/docs/stable/generated/torch.gather.html\n",
    "\n",
    "```bash\n",
    "torch.gather(input, dim, index, *, sparse_grad=False, out=None) → Tensor\n",
    "\n",
    "out will have the same shape as index\n",
    "```\n"
   ]
  },
  {
   "cell_type": "code",
   "execution_count": null,
   "metadata": {},
   "outputs": [],
   "source": [
    "torch.gather(input, dim, index)"
   ]
  },
  {
   "attachments": {},
   "cell_type": "markdown",
   "metadata": {},
   "source": [
    "## torch.masked_select"
   ]
  },
  {
   "cell_type": "code",
   "execution_count": 4,
   "metadata": {},
   "outputs": [
    {
     "name": "stdout",
     "output_type": "stream",
     "text": [
      "tensor([[-2.1747, -0.1719,  0.7052,  0.3118],\n",
      "        [ 0.5429, -0.5695, -0.5542,  0.6174],\n",
      "        [-0.8066, -0.7021, -0.3135, -2.0744]])\n",
      "tensor([[False, False,  True, False],\n",
      "        [ True, False, False,  True],\n",
      "        [False, False, False, False]])\n",
      "tensor([0.7052, 0.5429, 0.6174])\n"
     ]
    }
   ],
   "source": [
    "import torch\n",
    "x = torch.randn([3, 4])\n",
    "print(x)\n",
    "# 将x中的每一个元素与0.5进行比较\n",
    "# 当元素大于等于0.5返回True,否则返回False\n",
    "mask = x.ge(0.5)\n",
    "print(mask)\n",
    "print(torch.masked_select(x, mask))"
   ]
  },
  {
   "cell_type": "markdown",
   "metadata": {},
   "source": [
    "## torch.permute"
   ]
  },
  {
   "cell_type": "code",
   "execution_count": 8,
   "metadata": {},
   "outputs": [
    {
     "name": "stdout",
     "output_type": "stream",
     "text": [
      "tensor([[[ 0,  1,  2],\n",
      "         [ 3,  4,  5]],\n",
      "\n",
      "        [[ 6,  7,  8],\n",
      "         [ 9, 10, 11]]])\n",
      "torch.Size([2, 2, 3]) False\n",
      "tensor([[ 0,  1,  2],\n",
      "        [ 6,  7,  8],\n",
      "        [ 3,  4,  5],\n",
      "        [ 9, 10, 11]])\n",
      "tensor([[[ 0,  1,  2],\n",
      "         [ 6,  7,  8]],\n",
      "\n",
      "        [[ 3,  4,  5],\n",
      "         [ 9, 10, 11]]])\n"
     ]
    }
   ],
   "source": [
    "import torch\n",
    "\n",
    "input = torch.arange(12).reshape(2, 2, 3)\n",
    "print(input)\n",
    "\n",
    "output = input.transpose(0, 1)\n",
    "print(output.shape, output.is_contiguous())\n",
    "output = output.reshape(-1, 3)\n",
    "print(output)\n",
    "\n",
    "output = input.permute(1, 0, 2)\n",
    "print(output)"
   ]
  },
  {
   "cell_type": "markdown",
   "metadata": {},
   "source": [
    "## torch.split"
   ]
  },
  {
   "cell_type": "code",
   "execution_count": 1,
   "metadata": {},
   "outputs": [
    {
     "name": "stdout",
     "output_type": "stream",
     "text": [
      "tensor([[[-0.7344,  1.6499, -0.2924],\n",
      "         [ 0.1482, -1.5709, -0.7470],\n",
      "         [ 0.3299,  0.7175, -0.3415],\n",
      "         [ 0.5543,  0.5210,  0.5650],\n",
      "         [ 1.5115,  0.1675,  1.3452]],\n",
      "\n",
      "        [[-1.0781, -2.3267, -1.1224],\n",
      "         [-1.9603, -0.6313, -1.6316],\n",
      "         [ 0.9826,  0.0818, -1.2699],\n",
      "         [ 0.1995, -0.5995, -0.4268],\n",
      "         [ 0.2989, -1.6949,  0.1793]]])\n",
      "<class 'tuple'> 2 torch.Size([1, 5, 3])\n",
      "torch.Size([1, 5, 6])\n",
      "tensor([[[-0.7344,  1.6499, -0.2924, -1.0781, -2.3267, -1.1224],\n",
      "         [ 0.1482, -1.5709, -0.7470, -1.9603, -0.6313, -1.6316],\n",
      "         [ 0.3299,  0.7175, -0.3415,  0.9826,  0.0818, -1.2699],\n",
      "         [ 0.5543,  0.5210,  0.5650,  0.1995, -0.5995, -0.4268],\n",
      "         [ 1.5115,  0.1675,  1.3452,  0.2989, -1.6949,  0.1793]]])\n"
     ]
    }
   ],
   "source": [
    "import torch\n",
    "\n",
    "x = torch.randn((2, 5, 3))\n",
    "\n",
    "print(x)\n",
    "\n",
    "x = torch.split(x, 1, dim=0)\n",
    "print(type(x), len(x), x[0].shape)\n",
    "\n",
    "x = torch.cat(x, dim=-1)\n",
    "print(x.shape)\n",
    "\n",
    "print(x)"
   ]
  },
  {
   "attachments": {},
   "cell_type": "markdown",
   "metadata": {},
   "source": [
    "## torch.topk"
   ]
  },
  {
   "cell_type": "code",
   "execution_count": 10,
   "metadata": {},
   "outputs": [
    {
     "name": "stdout",
     "output_type": "stream",
     "text": [
      "tensor([[ 0.3988, -0.4285,  0.9232, -0.0042, -1.7357],\n",
      "        [-0.5347,  1.1426, -1.2428,  0.7063,  1.0780],\n",
      "        [ 0.9742, -0.0708,  0.3661,  0.8740,  0.9038],\n",
      "        [ 0.5233,  0.0808,  0.3399, -0.7865,  0.0210]])\n",
      "tensor([[-0.4285, -1.7357, -0.0042],\n",
      "        [-0.5347, -1.2428,  0.7063],\n",
      "        [ 0.3661, -0.0708,  0.8740],\n",
      "        [-0.7865,  0.0210,  0.0808]])\n",
      "tensor([[1, 4, 3],\n",
      "        [0, 2, 3],\n",
      "        [2, 1, 3],\n",
      "        [3, 4, 1]])\n"
     ]
    }
   ],
   "source": [
    "import torch\n",
    "\n",
    "pred = torch.randn((4, 5))\n",
    "print(pred)\n",
    "values, indices = pred.topk(3, dim=-1, largest=False, sorted=False)\n",
    "print(values)\n",
    "print(indices)\n",
    "\n",
    "pc = torch.randn(100, 3)\n",
    "pc = pc[indices]\n",
    "print(pc.shape)"
   ]
  },
  {
   "cell_type": "code",
   "execution_count": 2,
   "metadata": {},
   "outputs": [
    {
     "name": "stdout",
     "output_type": "stream",
     "text": [
      "tensor([[ 0.4793, -0.6942, -0.0746],\n",
      "        [-0.5317,  1.2179,  1.0645],\n",
      "        [-0.7935,  2.3039, -0.7851],\n",
      "        [ 0.3673,  1.7328, -0.6026],\n",
      "        [-0.1441,  0.9631, -0.7099]])\n"
     ]
    }
   ],
   "source": [
    "import torch\n",
    "\n",
    "q_loc = torch.normal(mean=0.0, std=1,\n",
    "                     size=(5, 3))\n",
    "print(q_loc)"
   ]
  },
  {
   "attachments": {},
   "cell_type": "markdown",
   "metadata": {},
   "source": [
    "## torch.repeat_interleave\n",
    "https://blog.csdn.net/weixin_45261707/article/details/119187799"
   ]
  },
  {
   "cell_type": "code",
   "execution_count": 41,
   "metadata": {},
   "outputs": [
    {
     "name": "stdout",
     "output_type": "stream",
     "text": [
      "tensor([[[1, 4],\n",
      "         [1, 4]],\n",
      "\n",
      "        [[0, 3],\n",
      "         [2, 1]]]) torch.Size([2, 2, 2])\n",
      "tensor([[[1, 4],\n",
      "         [1, 4]],\n",
      "\n",
      "        [[1, 4],\n",
      "         [1, 4]],\n",
      "\n",
      "        [[1, 4],\n",
      "         [1, 4]]]) torch.Size([3, 2, 2])\n",
      "tensor([[[1, 4],\n",
      "         [1, 4]],\n",
      "\n",
      "        [[1, 4],\n",
      "         [1, 4]],\n",
      "\n",
      "        [[0, 3],\n",
      "         [2, 1]]]) torch.Size([3, 2, 2])\n"
     ]
    }
   ],
   "source": [
    "import torch\n",
    "\n",
    "# B = 6\n",
    "# N = 1\n",
    "\n",
    "# batch = torch.arange(B).reshape(3, 2)\n",
    "# print(batch, batch.shape)\n",
    "\n",
    "# batch = torch.repeat_interleave(batch, N)\n",
    "# print(batch, batch.shape)\n",
    "# batch = batch.reshape(3, 2)\n",
    "# print(batch)\n",
    "\n",
    "# y = torch.tensor([[1, 2], [3, 4]]).unsqueeze(0)\n",
    "# print(y, y.shape)\n",
    "\n",
    "y = torch.randint(5, (2, 2, 2))\n",
    "print(y, y.shape)\n",
    "\n",
    "output = y.unsqueeze(1).expand(-1, 3, -1, -1)\n",
    "# print(output, output.shape)\n",
    "print(output[0], output[0].shape)\n",
    "\n",
    "# output = y.expand(3, -1, -1)\n",
    "# print(output, output.shape)\n",
    "\n",
    "output = torch.repeat_interleave(y, 3, dim=0)\n",
    "# # print(output, output.shape)\n",
    "\n",
    "output = output.reshape(3, 2, 2, 2)\n",
    "# print(output, output.shape)\n",
    "\n",
    "print(output[:, 0], output[:, 0].shape)\n"
   ]
  },
  {
   "attachments": {},
   "cell_type": "markdown",
   "metadata": {},
   "source": [
    "## torch.randperm\n",
    "https://pytorch.org/docs/stable/generated/torch.randperm.html"
   ]
  },
  {
   "cell_type": "code",
   "execution_count": 32,
   "metadata": {},
   "outputs": [
    {
     "name": "stdout",
     "output_type": "stream",
     "text": [
      "tensor([0, 6, 4, 2, 3, 1, 9, 7, 5, 8]) torch.Size([10]) torch.int64\n"
     ]
    }
   ],
   "source": [
    "import torch\n",
    "\n",
    "index = torch.randperm(10)\n",
    "print(index, index.shape, index.dtype)"
   ]
  },
  {
   "cell_type": "markdown",
   "metadata": {},
   "source": [
    "## torch.random"
   ]
  },
  {
   "cell_type": "code",
   "execution_count": null,
   "metadata": {},
   "outputs": [],
   "source": [
    "import torch\n",
    "\n",
    "torch.random.choice()\n"
   ]
  },
  {
   "attachments": {},
   "cell_type": "markdown",
   "metadata": {},
   "source": [
    "## torch.cumsum\n",
    "https://pytorch.org/docs/stable/generated/torch.cumsum.html"
   ]
  },
  {
   "cell_type": "code",
   "execution_count": 7,
   "metadata": {},
   "outputs": [
    {
     "name": "stdout",
     "output_type": "stream",
     "text": [
      "tensor([[0, 1, 2, 3, 4],\n",
      "        [5, 6, 7, 8, 9]]) torch.Size([2, 5])\n",
      "tensor([[ 0,  1,  3,  6, 10],\n",
      "        [ 5, 11, 18, 26, 35]]) torch.Size([2, 5])\n"
     ]
    }
   ],
   "source": [
    "import torch\n",
    "\n",
    "a = torch.arange(10).reshape(2, 5)\n",
    "print(a, a.shape)\n",
    "out = torch.cumsum(a, dim=1)\n",
    "print(out, out.shape)"
   ]
  },
  {
   "attachments": {},
   "cell_type": "markdown",
   "metadata": {},
   "source": [
    "## Transpose"
   ]
  },
  {
   "cell_type": "code",
   "execution_count": 5,
   "metadata": {},
   "outputs": [
    {
     "name": "stdout",
     "output_type": "stream",
     "text": [
      "torch.Size([5, 3, 1024])\n"
     ]
    }
   ],
   "source": [
    "import torch\n",
    "\n",
    "input = torch.randn(5, 1024, 3)\n",
    "\n",
    "input = input.transpose(2, 1)\n",
    "# input = input.transpose(1, 2)\n",
    "print(input.shape)"
   ]
  },
  {
   "attachments": {},
   "cell_type": "markdown",
   "metadata": {},
   "source": []
  },
  {
   "cell_type": "code",
   "execution_count": 7,
   "metadata": {},
   "outputs": [
    {
     "name": "stdout",
     "output_type": "stream",
     "text": [
      "tensor([0.4084, 0.2738, 0.2688, 0.6091, 0.1376, 0.1700, 0.5771, 0.8596, 0.2714,\n",
      "        0.3064])\n",
      "tensor([0.7042, 0.6369, 0.6344, 0.8046, 0.5688, 0.5850, 0.7885, 0.9298, 0.6357,\n",
      "        0.6532]) torch.Size([10])\n"
     ]
    }
   ],
   "source": [
    "import torch\n",
    "\n",
    "beta = 0.5\n",
    "\n",
    "w_avg = torch.ones(10)\n",
    "w = torch.rand(10)\n",
    "print(w)\n",
    "out = w_avg.lerp(w, beta)\n",
    "print(out, out.shape)"
   ]
  },
  {
   "attachments": {},
   "cell_type": "markdown",
   "metadata": {},
   "source": [
    "## torch.where"
   ]
  },
  {
   "cell_type": "code",
   "execution_count": 1,
   "metadata": {},
   "outputs": [
    {
     "name": "stdout",
     "output_type": "stream",
     "text": [
      "tensor([[-0.4152, -0.1302,  1.3266,  0.2277],\n",
      "        [-0.8039,  0.0621, -2.2380,  0.3965],\n",
      "        [ 0.1304,  0.9455, -1.8112, -0.1149]]) torch.Size([3, 4])\n",
      "tensor([[False, False,  True, False],\n",
      "        [False, False, False, False],\n",
      "        [False,  True, False, False]]) torch.Size([3, 4])\n",
      "(tensor([0, 2]), tensor([2, 1])) <class 'tuple'>\n",
      "tensor([[-0.5990,  0.3586,  0.7046],\n",
      "        [-1.1091,  0.6062, -1.2518]]) torch.Size([2, 3])\n"
     ]
    },
    {
     "ename": "",
     "evalue": "",
     "output_type": "error",
     "traceback": [
      "\u001b[1;31mThe Kernel crashed while executing code in the the current cell or a previous cell. Please review the code in the cell(s) to identify a possible cause of the failure. Click <a href='https://aka.ms/vscodeJupyterKernelCrash'>here</a> for more info. View Jupyter <a href='command:jupyter.viewOutput'>log</a> for further details."
     ]
    }
   ],
   "source": [
    "import torch\n",
    "\n",
    "data = torch.randn(3, 4)\n",
    "print(data, data.shape)\n",
    "\n",
    "mask = data > 0.5\n",
    "print(mask, mask.shape)\n",
    "\n",
    "occIdx = torch.where(mask)\n",
    "print(occIdx, type(occIdx))\n",
    "\n",
    "others = torch.randn(3, 4, 3)\n",
    "\n",
    "data2 = others[mask]\n",
    "print(data2, data2.shape)"
   ]
  },
  {
   "cell_type": "code",
   "execution_count": 9,
   "metadata": {},
   "outputs": [
    {
     "name": "stdout",
     "output_type": "stream",
     "text": [
      "tensor([[0., 0., 0., 0.],\n",
      "        [0., 0., 0., 0.]])\n",
      "tensor([[False, False, False, False],\n",
      "        [False, False, False, False]])\n",
      "torch.Size([2, 4])\n",
      "(tensor([], dtype=torch.int64), tensor([], dtype=torch.int64))\n"
     ]
    }
   ],
   "source": [
    "import torch\n",
    "\n",
    "mask = [[1, 0, 1, 1],\n",
    "        [0, 1, 1, 0]]\n",
    "mask = torch.zeros(2, 4)\n",
    "mask = torch.asarray(mask)\n",
    "print(mask)\n",
    "\n",
    "dd = (mask == 1)\n",
    "print(dd)\n",
    "\n",
    "print(mask.shape)\n",
    "\n",
    "idx = torch.where(mask)\n",
    "print(idx)"
   ]
  },
  {
   "cell_type": "code",
   "execution_count": 2,
   "metadata": {},
   "outputs": [
    {
     "name": "stdout",
     "output_type": "stream",
     "text": [
      "range(50, 100) [50, 51, 52, 53, 54, 55, 56, 57, 58, 59, 60, 61, 62, 63, 64, 65, 66, 67, 68, 69, 70, 71, 72, 73, 74, 75, 76, 77, 78, 79, 80, 81, 82, 83, 84, 85, 86, 87, 88, 89, 90, 91, 92, 93, 94, 95, 96, 97, 98, 99]\n"
     ]
    }
   ],
   "source": [
    "dd = range(50, 100)\n",
    "print(dd, list(dd))"
   ]
  }
 ],
 "metadata": {
  "kernelspec": {
   "display_name": "Python 3.8.13 ('py38-torch100-cu11')",
   "language": "python",
   "name": "python3"
  },
  "language_info": {
   "codemirror_mode": {
    "name": "ipython",
    "version": 3
   },
   "file_extension": ".py",
   "mimetype": "text/x-python",
   "name": "python",
   "nbconvert_exporter": "python",
   "pygments_lexer": "ipython3",
   "version": "3.8.18"
  },
  "orig_nbformat": 4,
  "vscode": {
   "interpreter": {
    "hash": "56d0891f27fe2db3830dc2a05bc70f05135b0c30ed7c190a150d1aca2da3af60"
   }
  }
 },
 "nbformat": 4,
 "nbformat_minor": 2
}
