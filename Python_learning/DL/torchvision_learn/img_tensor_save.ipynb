{
 "cells": [
  {
   "cell_type": "code",
   "execution_count": 1,
   "metadata": {},
   "outputs": [],
   "source": [
    "%matplotlib inline\n",
    "import torch\n",
    "import matplotlib\n",
    "import torchvision\n",
    "import matplotlib.pyplot as plt\n",
    "import cv2\n",
    "from PIL import Image\n",
    "import numpy as np"
   ]
  },
  {
   "cell_type": "markdown",
   "metadata": {},
   "source": [
    "## Save a image from OpenCV reader"
   ]
  },
  {
   "cell_type": "markdown",
   "metadata": {},
   "source": [
    "### Save RGB image"
   ]
  },
  {
   "cell_type": "code",
   "execution_count": 13,
   "metadata": {},
   "outputs": [],
   "source": [
    "src_img_path = \"./data/obama.jpg\"\n",
    "src_img = cv2.imread(src_img_path)\n",
    "\n",
    "## Change the BGR order to RGB order\n",
    "src_img = cv2.cvtColor(src_img, cv2.COLOR_BGR2RGB)\n",
    "\n",
    "image = torch.from_numpy(src_img).type(torch.float)\n",
    "image = image.permute(2, 0, 1) / 255.0 # to (3, H, W) in range [0, 1]\n",
    "\n",
    "torchvision.utils.save_image(image, fp=f'./data/torch_save.png') # save tensor to image in range [0., 1.0]\n",
    "\n",
    "image = image * 2.0 - 1.0\n",
    "torchvision.utils.save_image(image, fp=f'./data/torch_save_2.png')\n",
    "\n",
    "# grid_image = torchvision.utils.make_grid(image, nrow=16, padding=5)"
   ]
  },
  {
   "cell_type": "markdown",
   "metadata": {},
   "source": [
    "### Save Gray image"
   ]
  },
  {
   "cell_type": "code",
   "execution_count": 16,
   "metadata": {},
   "outputs": [
    {
     "name": "stdout",
     "output_type": "stream",
     "text": [
      "torch.Size([512, 512])\n"
     ]
    }
   ],
   "source": [
    "src_img_path = \"./data/obama.jpg\"\n",
    "src_img = cv2.imread(src_img_path)\n",
    "\n",
    "## Change the BGR order to RGB order\n",
    "src_img = cv2.cvtColor(src_img, cv2.COLOR_BGR2RGB)\n",
    "\n",
    "image = torch.from_numpy(src_img).type(torch.float)\n",
    "image = image.permute(2, 0, 1) / 255.0 # to (3, H, W) in range [0, 1]\n",
    "\n",
    "## Below two both OK\n",
    "# image = image[0:1,...]\n",
    "image = image[0]\n",
    "\n",
    "print(image.shape)\n",
    "torchvision.utils.save_image(image, fp=f'./data/torch_save_gray1.png') # save tensor to image in range [0., 1.0]\n"
   ]
  },
  {
   "cell_type": "markdown",
   "metadata": {},
   "source": [
    "## Save multiple images"
   ]
  },
  {
   "cell_type": "code",
   "execution_count": 12,
   "metadata": {},
   "outputs": [
    {
     "name": "stdout",
     "output_type": "stream",
     "text": [
      "torch.Size([3, 512, 512]) tensor(0.) tensor(241.)\n",
      "torch.Size([3, 3, 512, 512]) tensor(0.) tensor(241.)\n",
      "torch.Size([3, 532, 1576])\n"
     ]
    }
   ],
   "source": [
    "path = \"./data/image_grid.jpg\"\n",
    "\n",
    "img_src_path = \"./data/obama.jpg\"\n",
    "img_src = Image.open(img_src_path)\n",
    "img_src = torch.from_numpy(np.array(img_src).astype(np.float32)).permute(2, 0, 1)\n",
    "# img_src = torchvision.transforms.ToTensor()(img_src)\n",
    "print(img_src.shape, img_src.min(), img_src.max())\n",
    "\n",
    "# img_src = img_src[0:1, ...]\n",
    "vis_images = torch.stack([img_src, img_src, img_src], dim=0)\n",
    "print(vis_images.shape, vis_images.min(), vis_images.max())\n",
    "\n",
    "# image_grid = torchvision.utils.make_grid(vis_images, nrow=3, padding=0, normalize=True, value_range=(0, 255))\n",
    "image_grid = torchvision.utils.make_grid(vis_images, nrow=3, padding=10)\n",
    "\n",
    "print(image_grid.shape)\n",
    "\n",
    "# torchvision.utils.save_image(image_grid, path, nrow=1)\n",
    "\n",
    "torchvision.utils.save_image(vis_images / 255.0, path, nrow=2, padding=0) # save a batch of images directly\n"
   ]
  }
 ],
 "metadata": {
  "kernelspec": {
   "display_name": "py38",
   "language": "python",
   "name": "python3"
  },
  "language_info": {
   "codemirror_mode": {
    "name": "ipython",
    "version": 3
   },
   "file_extension": ".py",
   "mimetype": "text/x-python",
   "name": "python",
   "nbconvert_exporter": "python",
   "pygments_lexer": "ipython3",
   "version": "3.8.13"
  },
  "orig_nbformat": 4,
  "vscode": {
   "interpreter": {
    "hash": "e289fd0241b335d4b18509c8db99dc6f7b71739b00d5a2ecf7749747469093bc"
   }
  }
 },
 "nbformat": 4,
 "nbformat_minor": 2
}
